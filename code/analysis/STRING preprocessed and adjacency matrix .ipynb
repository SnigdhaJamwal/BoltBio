{
 "cells": [
  {
   "cell_type": "markdown",
   "metadata": {
    "id": "9gr08kVdjMVW"
   },
   "source": [
    "1. STRING Pre Processing\n",
    "\n",
    "\n",
    "\n",
    "```\n",
    "Original dataset downloaded from \n",
    "https://stringdb-static.org/download/protein.links.v11.5/9606.protein.links.v11.5.txt.gz \n",
    "using the homo sapiens filter.\n",
    "\n",
    "Pre-processed data with HUGO symbols and relevant nodes downloaded from the NDEx compendium web server \n",
    "http://www.ndexbio.org/#/networkset/e8ebbdde-86dc-11e7-a10d-0ac135e8bacf?accesskey=7fbd23635b798321954e66c63526c46397a3f45b40298cf43f22d07d4feed0fa\n",
    "\n",
    "https://github.com/schulter/EMOGI/blob/master/network_preprocessing/preprocessing_STRINGdb.ipynb\n",
    "https://github.com/idekerlab/Network_Evaluation_Tools/blob/master/Network%20Processing%20Notebooks/STRING%20Processing.ipynb\n",
    "\n",
    "Combined score in STRING PPI:\n",
    "http://version10.string-db.org/help/faq/\n",
    "```\n",
    "\n",
    "\n",
    "\n"
   ]
  },
  {
   "cell_type": "code",
   "execution_count": 1,
   "metadata": {
    "colab": {
     "base_uri": "https://localhost:8080/"
    },
    "id": "ZlxpVg3wjKUR",
    "outputId": "2407bdd9-3e4e-4cd1-ce35-1315a170df49"
   },
   "outputs": [
    {
     "name": "stdout",
     "output_type": "stream",
     "text": [
      "Defaulting to user installation because normal site-packages is not writeable\n",
      "Requirement already satisfied: mygene in /home/gee3/.local/lib/python3.8/site-packages (3.2.2)\n",
      "Requirement already satisfied: biothings-client>=0.2.6 in /home/gee3/.local/lib/python3.8/site-packages (from mygene) (0.2.6)\n",
      "Requirement already satisfied: requests>=2.3.0 in /home/gee3/.local/lib/python3.8/site-packages (from biothings-client>=0.2.6->mygene) (2.27.1)\n",
      "Requirement already satisfied: certifi>=2017.4.17 in /home/gee3/.local/lib/python3.8/site-packages (from requests>=2.3.0->biothings-client>=0.2.6->mygene) (2021.10.8)\n",
      "Requirement already satisfied: urllib3<1.27,>=1.21.1 in /home/gee3/.local/lib/python3.8/site-packages (from requests>=2.3.0->biothings-client>=0.2.6->mygene) (1.26.8)\n",
      "Requirement already satisfied: idna<4,>=2.5 in /home/gee3/.local/lib/python3.8/site-packages (from requests>=2.3.0->biothings-client>=0.2.6->mygene) (3.3)\n",
      "Requirement already satisfied: charset-normalizer~=2.0.0 in /home/gee3/.local/lib/python3.8/site-packages (from requests>=2.3.0->biothings-client>=0.2.6->mygene) (2.0.10)\n"
     ]
    }
   ],
   "source": [
    "import pandas as pd\n",
    "!pip install mygene\n",
    "import mygene\n",
    "import networkx as nx\n",
    "import matplotlib.pyplot as plt\n",
    "import seaborn as sns\n",
    "%matplotlib inline\n",
    "\n",
    "def get_gene_symbols_from_proteins(list_of_ensembl_ids):\n",
    "    # get Ensembl IDs for gene names\n",
    "    mg = mygene.MyGeneInfo()\n",
    "    res = mg.querymany(list_of_ensembl_ids,\n",
    "                       scopes='ensembl.protein',\n",
    "                       fields='symbol',\n",
    "                     species='human', returnall=True\n",
    "                      )\n",
    "    def get_symbol_and_ensembl(d):\n",
    "      if 'symbol' in d:\n",
    "        return [d['query'], d['symbol']]\n",
    "      else:\n",
    "        return [d['query'], None]\n",
    "\n",
    "    node_names = [get_symbol_and_ensembl(d) for d in res['out']]\n",
    "    # now, retrieve the names and IDs from a dictionary and put in DF\n",
    "    node_names = pd.DataFrame(node_names, columns=['Ensembl_ID', 'Symbol']).set_index('Ensembl_ID')\n",
    "    node_names.dropna(axis=0, inplace=True)\n",
    "    return node_names"
   ]
  },
  {
   "cell_type": "code",
   "execution_count": 2,
   "metadata": {
    "colab": {
     "base_uri": "https://localhost:8080/",
     "height": 606
    },
    "id": "_Dpc2dXVj8-a",
    "outputId": "c0ef6ac3-da08-4a56-b135-a991484f3a29"
   },
   "outputs": [
    {
     "name": "stderr",
     "output_type": "stream",
     "text": [
      "/home/gee3/.local/lib/python3.8/site-packages/seaborn/distributions.py:2619: FutureWarning: `distplot` is a deprecated function and will be removed in a future version. Please adapt your code to use either `displot` (a figure-level function with similar flexibility) or `histplot` (an axes-level function for histograms).\n",
      "  warnings.warn(msg, FutureWarning)\n",
      "/home/gee3/.local/lib/python3.8/site-packages/seaborn/distributions.py:1699: FutureWarning: The `bw` parameter is deprecated in favor of `bw_method` and `bw_adjust`. Using 20 for `bw_method`, but please see the docs for the new parameters and update your code.\n",
      "  warnings.warn(msg, FutureWarning)\n"
     ]
    },
    {
     "data": {
      "text/plain": [
       "<matplotlib.axes._subplots.AxesSubplot at 0x7fd3847aa2b0>"
      ]
     },
     "execution_count": 2,
     "metadata": {},
     "output_type": "execute_result"
    },
    {
     "data": {
      "image/png": "[encoded data removed]",
      "text/plain": [
       "<Figure size 1008x576 with 1 Axes>"
      ]
     },
     "metadata": {
      "needs_background": "light"
     },
     "output_type": "display_data"
    }
   ],
   "source": [
    "string_ppis = pd.read_csv('9606.protein.links.v11.5.txt', sep=' ')\n",
    "fig = plt.figure(figsize=(14, 8))\n",
    "sns.distplot(string_ppis.combined_score, kde_kws={'bw': 20})"
   ]
  },
  {
   "cell_type": "code",
   "execution_count": 3,
   "metadata": {
    "id": "Tij0vWW0k2GP"
   },
   "outputs": [],
   "source": [
    "high_conf_string_ppis = string_ppis[string_ppis.combined_score >= 850].copy() # same as 0.85 threshold (they multiplied by 1000 to have ints)\n",
    "high_conf_string_ppis.loc[:, 'protein1'] = [i[1] for i in high_conf_string_ppis.protein1.str.split('.')]\n",
    "high_conf_string_ppis.loc[:, 'protein2'] = [i[1] for i in high_conf_string_ppis.protein2.str.split('.')]\n",
    "# high_conf_string_ppis.to_csv('../data/networks/string_ENSP_ids_highconf.tsv', sep='\\t', compression='gzip')"
   ]
  },
  {
   "cell_type": "code",
   "execution_count": 4,
   "metadata": {
    "colab": {
     "base_uri": "https://localhost:8080/"
    },
    "id": "uS4oNDjNk22s",
    "outputId": "45719217-6b98-4934-956e-a7432668ba5a"
   },
   "outputs": [
    {
     "name": "stdout",
     "output_type": "stream",
     "text": [
      "querying 1-1000...done.\n",
      "querying 1001-2000...done.\n",
      "querying 2001-3000...done.\n",
      "querying 3001-4000...done.\n",
      "querying 4001-5000...done.\n",
      "querying 5001-6000...done.\n",
      "querying 6001-7000...done.\n",
      "querying 7001-8000...done.\n",
      "querying 8001-9000...done.\n",
      "querying 9001-10000...done.\n",
      "querying 10001-11000...done.\n",
      "querying 11001-12000...done.\n",
      "querying 12001-12885...done.\n",
      "Finished.\n",
      "350 input query terms found no hit:\n",
      "\t['ENSP00000035383', 'ENSP00000062104', 'ENSP00000204615', 'ENSP00000205890', 'ENSP00000215739', 'ENS\n"
     ]
    }
   ],
   "source": [
    "ens_names = high_conf_string_ppis.protein1.append(high_conf_string_ppis.protein2).unique()\n",
    "ens_to_symbol = get_gene_symbols_from_proteins(ens_names)"
   ]
  },
  {
   "cell_type": "code",
   "execution_count": 5,
   "metadata": {
    "id": "S_aI_mi6k5Ek"
   },
   "outputs": [],
   "source": [
    "p1_incl = high_conf_string_ppis.join(ens_to_symbol, on='protein1', how='inner', rsuffix='_p1')\n",
    "both_incl = p1_incl.join(ens_to_symbol, on='protein2', how='inner', rsuffix='_p2')\n",
    "string_edgelist_symbols = both_incl.drop(['protein1', 'protein2'], axis=1)\n",
    "string_edgelist_symbols.columns = ['confidence', 'partner1', 'partner2']\n",
    "string_ppi_final = string_edgelist_symbols[['partner1', 'partner2', 'confidence']]"
   ]
  },
  {
   "cell_type": "code",
   "execution_count": 6,
   "metadata": {
    "colab": {
     "base_uri": "https://localhost:8080/"
    },
    "id": "cHQskhY6k7BE",
    "outputId": "6ae178f3-6af3-49b0-9bbe-7347043a1cbd"
   },
   "outputs": [
    {
     "name": "stdout",
     "output_type": "stream",
     "text": [
      "Network with 12412 nodes and 139565 edges\n"
     ]
    }
   ],
   "source": [
    "G = nx.from_pandas_edgelist(string_ppi_final, source='partner1', target='partner2')\n",
    "print (\"Network with {} nodes and {} edges\".format(G.number_of_nodes(), G.number_of_edges()))"
   ]
  },
  {
   "cell_type": "code",
   "execution_count": 13,
   "metadata": {
    "id": "euJ6pSWrlAC8"
   },
   "outputs": [],
   "source": [
    "string_ppi_final.to_csv('string_preprocessed.tsv', sep='\\t', compression='gzip')"
   ]
  },
  {
   "cell_type": "code",
   "execution_count": 12,
   "metadata": {},
   "outputs": [],
   "source": [
    "import networkx as nx"
   ]
  },
  {
   "cell_type": "code",
   "execution_count": 11,
   "metadata": {},
   "outputs": [],
   "source": [
    "import scipy"
   ]
  },
  {
   "cell_type": "code",
   "execution_count": 16,
   "metadata": {},
   "outputs": [],
   "source": [
    "import numpy as npb"
   ]
  },
  {
   "cell_type": "code",
   "execution_count": 28,
   "metadata": {},
   "outputs": [],
   "source": []
  },
  {
   "cell_type": "code",
   "execution_count": 30,
   "metadata": {},
   "outputs": [],
   "source": [
    "am = nx.adjacency_matrix(G, nodelist=None, weight='weight')"
   ]
  },
  {
   "cell_type": "code",
   "execution_count": 31,
   "metadata": {},
   "outputs": [],
   "source": [
    "dm = am.toarray()"
   ]
  },
  {
   "cell_type": "code",
   "execution_count": 32,
   "metadata": {},
   "outputs": [],
   "source": [
    "filename='adjacency_matrix.txt'\n",
    "np.savetxt(filename,dm)"
   ]
  },
  {
   "cell_type": "code",
   "execution_count": null,
   "metadata": {},
   "outputs": [],
   "source": []
  }
 ],
 "metadata": {
  "colab": {
   "collapsed_sections": [],
   "name": "STRINGdb.ipynb",
   "provenance": []
  },
  "kernelspec": {
   "display_name": "Python 3 (ipykernel)",
   "language": "python",
   "name": "python3"
  },
  "language_info": {
   "codemirror_mode": {
    "name": "ipython",
    "version": 3
   },
   "file_extension": ".py",
   "mimetype": "text/x-python",
   "name": "python",
   "nbconvert_exporter": "python",
   "pygments_lexer": "ipython3",
   "version": "3.8.10"
  }
 },
 "nbformat": 4,
 "nbformat_minor": 1
}

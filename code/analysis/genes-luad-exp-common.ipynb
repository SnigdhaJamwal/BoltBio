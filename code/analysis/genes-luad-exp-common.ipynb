{
  "cells": [
    {
      "cell_type": "markdown",
      "metadata": {
        "id": "YUz-XV1QP8cE"
      },
      "source": [
        "# Common miRNA, RNA, and methylation genes and genes in different cancer genesets "
      ]
    },
    {
      "cell_type": "code",
      "execution_count": null,
      "metadata": {
        "colab": {
          "base_uri": "https://localhost:8080/"
        },
        "id": "JQRBDKeXR9GA",
        "outputId": "0d3b78da-44dc-4333-a41d-b4c59ecaa7a7"
      },
      "outputs": [
        {
          "output_type": "stream",
          "name": "stdout",
          "text": [
            "Collecting gseapy\n",
            "  Downloading gseapy-0.10.8-py3-none-any.whl (526 kB)\n",
            "\u001b[K     |████████████████████████████████| 526 kB 5.4 MB/s \n",
            "\u001b[?25hRequirement already satisfied: requests in /usr/local/lib/python3.7/dist-packages (from gseapy) (2.23.0)\n",
            "Collecting bioservices\n",
            "  Downloading bioservices-1.8.4.tar.gz (1.0 MB)\n",
            "\u001b[K     |████████████████████████████████| 1.0 MB 45.4 MB/s \n",
            "\u001b[?25hRequirement already satisfied: matplotlib in /usr/local/lib/python3.7/dist-packages (from gseapy) (3.2.2)\n",
            "Requirement already satisfied: joblib in /usr/local/lib/python3.7/dist-packages (from gseapy) (1.1.0)\n",
            "Requirement already satisfied: scipy in /usr/local/lib/python3.7/dist-packages (from gseapy) (1.4.1)\n",
            "Requirement already satisfied: pandas in /usr/local/lib/python3.7/dist-packages (from gseapy) (1.3.5)\n",
            "Requirement already satisfied: numpy>=1.13.0 in /usr/local/lib/python3.7/dist-packages (from gseapy) (1.21.5)\n",
            "Collecting grequests\n",
            "  Downloading grequests-0.6.0-py3-none-any.whl (5.2 kB)\n",
            "Collecting requests_cache\n",
            "  Downloading requests_cache-0.9.3-py3-none-any.whl (47 kB)\n",
            "\u001b[K     |████████████████████████████████| 47 kB 4.6 MB/s \n",
            "\u001b[?25hCollecting easydev>=0.9.36\n",
            "  Downloading easydev-0.12.0.tar.gz (47 kB)\n",
            "\u001b[K     |████████████████████████████████| 47 kB 4.2 MB/s \n",
            "\u001b[?25hRequirement already satisfied: beautifulsoup4 in /usr/local/lib/python3.7/dist-packages (from bioservices->gseapy) (4.6.3)\n",
            "Collecting xmltodict\n",
            "  Downloading xmltodict-0.12.0-py2.py3-none-any.whl (9.2 kB)\n",
            "Requirement already satisfied: lxml in /usr/local/lib/python3.7/dist-packages (from bioservices->gseapy) (4.2.6)\n",
            "Collecting suds-community\n",
            "  Downloading suds_community-1.1.0-py3-none-any.whl (144 kB)\n",
            "\u001b[K     |████████████████████████████████| 144 kB 48.8 MB/s \n",
            "\u001b[?25hRequirement already satisfied: appdirs in /usr/local/lib/python3.7/dist-packages (from bioservices->gseapy) (1.4.4)\n",
            "Requirement already satisfied: wrapt in /usr/local/lib/python3.7/dist-packages (from bioservices->gseapy) (1.14.0)\n",
            "Collecting colorlog\n",
            "  Downloading colorlog-6.6.0-py2.py3-none-any.whl (11 kB)\n",
            "Collecting colorama\n",
            "  Downloading colorama-0.4.4-py2.py3-none-any.whl (16 kB)\n",
            "Requirement already satisfied: pexpect in /usr/local/lib/python3.7/dist-packages (from easydev>=0.9.36->bioservices->gseapy) (4.8.0)\n",
            "Collecting gevent\n",
            "  Downloading gevent-21.12.0-cp37-cp37m-manylinux_2_12_x86_64.manylinux2010_x86_64.whl (5.8 MB)\n",
            "\u001b[K     |████████████████████████████████| 5.8 MB 37.3 MB/s \n",
            "\u001b[?25hCollecting zope.interface\n",
            "  Downloading zope.interface-5.4.0-cp37-cp37m-manylinux2010_x86_64.whl (251 kB)\n",
            "\u001b[K     |████████████████████████████████| 251 kB 52.7 MB/s \n",
            "\u001b[?25hRequirement already satisfied: setuptools in /usr/local/lib/python3.7/dist-packages (from gevent->grequests->bioservices->gseapy) (57.4.0)\n",
            "Requirement already satisfied: greenlet<2.0,>=1.1.0 in /usr/local/lib/python3.7/dist-packages (from gevent->grequests->bioservices->gseapy) (1.1.2)\n",
            "Collecting zope.event\n",
            "  Downloading zope.event-4.5.0-py2.py3-none-any.whl (6.8 kB)\n",
            "Requirement already satisfied: pyparsing!=2.0.4,!=2.1.2,!=2.1.6,>=2.0.1 in /usr/local/lib/python3.7/dist-packages (from matplotlib->gseapy) (3.0.7)\n",
            "Requirement already satisfied: cycler>=0.10 in /usr/local/lib/python3.7/dist-packages (from matplotlib->gseapy) (0.11.0)\n",
            "Requirement already satisfied: python-dateutil>=2.1 in /usr/local/lib/python3.7/dist-packages (from matplotlib->gseapy) (2.8.2)\n",
            "Requirement already satisfied: kiwisolver>=1.0.1 in /usr/local/lib/python3.7/dist-packages (from matplotlib->gseapy) (1.4.0)\n",
            "Requirement already satisfied: typing-extensions in /usr/local/lib/python3.7/dist-packages (from kiwisolver>=1.0.1->matplotlib->gseapy) (3.10.0.2)\n",
            "Requirement already satisfied: six>=1.5 in /usr/local/lib/python3.7/dist-packages (from python-dateutil>=2.1->matplotlib->gseapy) (1.15.0)\n",
            "Requirement already satisfied: pytz>=2017.3 in /usr/local/lib/python3.7/dist-packages (from pandas->gseapy) (2018.9)\n",
            "Requirement already satisfied: ptyprocess>=0.5 in /usr/local/lib/python3.7/dist-packages (from pexpect->easydev>=0.9.36->bioservices->gseapy) (0.7.0)\n",
            "Requirement already satisfied: idna<3,>=2.5 in /usr/local/lib/python3.7/dist-packages (from requests->gseapy) (2.10)\n",
            "Requirement already satisfied: certifi>=2017.4.17 in /usr/local/lib/python3.7/dist-packages (from requests->gseapy) (2021.10.8)\n",
            "Requirement already satisfied: urllib3!=1.25.0,!=1.25.1,<1.26,>=1.21.1 in /usr/local/lib/python3.7/dist-packages (from requests->gseapy) (1.24.3)\n",
            "Requirement already satisfied: chardet<4,>=3.0.2 in /usr/local/lib/python3.7/dist-packages (from requests->gseapy) (3.0.4)\n",
            "Collecting url-normalize<2.0,>=1.4\n",
            "  Downloading url_normalize-1.4.3-py2.py3-none-any.whl (6.8 kB)\n",
            "Requirement already satisfied: attrs<22.0,>=21.2 in /usr/local/lib/python3.7/dist-packages (from requests_cache->bioservices->gseapy) (21.4.0)\n",
            "Collecting cattrs<2.0,>=1.8\n",
            "  Downloading cattrs-1.10.0-py3-none-any.whl (29 kB)\n",
            "Collecting urllib3!=1.25.0,!=1.25.1,<1.26,>=1.21.1\n",
            "  Downloading urllib3-1.25.11-py2.py3-none-any.whl (127 kB)\n",
            "\u001b[K     |████████████████████████████████| 127 kB 60.8 MB/s \n",
            "\u001b[?25hBuilding wheels for collected packages: bioservices, easydev\n",
            "  Building wheel for bioservices (setup.py) ... \u001b[?25l\u001b[?25hdone\n",
            "  Created wheel for bioservices: filename=bioservices-1.8.4-py3-none-any.whl size=231822 sha256=98064fcd1c92597ce1fb5a28328459edcc367c383d90da737be07bb6afb4aef8\n",
            "  Stored in directory: /root/.cache/pip/wheels/68/df/3c/0ed23eeeafac858b6d4d3ec54d90d58e9292628b50d43bcd0f\n",
            "  Building wheel for easydev (setup.py) ... \u001b[?25l\u001b[?25hdone\n",
            "  Created wheel for easydev: filename=easydev-0.12.0-py3-none-any.whl size=64232 sha256=9936aada6278420d0b750a52c08c3f1a942fe3380e5ececd64f8c0bd22f24ef3\n",
            "  Stored in directory: /root/.cache/pip/wheels/82/ab/83/fdfc4017ea44a585b6754752cc5f63f2d0d63fcc1317e7174b\n",
            "Successfully built bioservices easydev\n",
            "Installing collected packages: zope.interface, zope.event, urllib3, url-normalize, gevent, colorlog, colorama, cattrs, xmltodict, suds-community, requests-cache, grequests, easydev, bioservices, gseapy\n",
            "  Attempting uninstall: urllib3\n",
            "    Found existing installation: urllib3 1.24.3\n",
            "    Uninstalling urllib3-1.24.3:\n",
            "      Successfully uninstalled urllib3-1.24.3\n",
            "\u001b[31mERROR: pip's dependency resolver does not currently take into account all the packages that are installed. This behaviour is the source of the following dependency conflicts.\n",
            "datascience 0.10.6 requires folium==0.2.1, but you have folium 0.8.3 which is incompatible.\u001b[0m\n",
            "Successfully installed bioservices-1.8.4 cattrs-1.10.0 colorama-0.4.4 colorlog-6.6.0 easydev-0.12.0 gevent-21.12.0 grequests-0.6.0 gseapy-0.10.8 requests-cache-0.9.3 suds-community-1.1.0 url-normalize-1.4.3 urllib3-1.25.11 xmltodict-0.12.0 zope.event-4.5.0 zope.interface-5.4.0\n"
          ]
        }
      ],
      "source": [
        "!pip install gseapy"
      ]
    },
    {
      "cell_type": "code",
      "execution_count": null,
      "metadata": {
        "colab": {
          "base_uri": "https://localhost:8080/"
        },
        "id": "qhbaeiyPQgkM",
        "outputId": "3d55cda1-e570-476c-9ab1-1be854bcc7cb"
      },
      "outputs": [
        {
          "output_type": "stream",
          "name": "stdout",
          "text": [
            "Creating directory /root/.config/bioservices \n"
          ]
        }
      ],
      "source": [
        "import pandas as pd\n",
        "import gseapy as gp\n",
        "import matplotlib.pyplot as plt\n",
        "from gseapy.plot import barplot, dotplot"
      ]
    },
    {
      "cell_type": "code",
      "execution_count": null,
      "metadata": {
        "colab": {
          "base_uri": "https://localhost:8080/"
        },
        "id": "efXKjPyXlvWi",
        "outputId": "7c452979-e8a8-4679-96c8-a4f85ee7f03d"
      },
      "outputs": [
        {
          "output_type": "stream",
          "name": "stdout",
          "text": [
            "Collecting mygene\n",
            "  Downloading mygene-3.2.2-py2.py3-none-any.whl (5.4 kB)\n",
            "Collecting biothings-client>=0.2.6\n",
            "  Downloading biothings_client-0.2.6-py2.py3-none-any.whl (37 kB)\n",
            "Requirement already satisfied: requests>=2.3.0 in /usr/local/lib/python3.7/dist-packages (from biothings-client>=0.2.6->mygene) (2.23.0)\n",
            "Requirement already satisfied: idna<3,>=2.5 in /usr/local/lib/python3.7/dist-packages (from requests>=2.3.0->biothings-client>=0.2.6->mygene) (2.10)\n",
            "Requirement already satisfied: certifi>=2017.4.17 in /usr/local/lib/python3.7/dist-packages (from requests>=2.3.0->biothings-client>=0.2.6->mygene) (2021.10.8)\n",
            "Requirement already satisfied: chardet<4,>=3.0.2 in /usr/local/lib/python3.7/dist-packages (from requests>=2.3.0->biothings-client>=0.2.6->mygene) (3.0.4)\n",
            "Requirement already satisfied: urllib3!=1.25.0,!=1.25.1,<1.26,>=1.21.1 in /usr/local/lib/python3.7/dist-packages (from requests>=2.3.0->biothings-client>=0.2.6->mygene) (1.25.11)\n",
            "Installing collected packages: biothings-client, mygene\n",
            "Successfully installed biothings-client-0.2.6 mygene-3.2.2\n"
          ]
        }
      ],
      "source": [
        "!pip install mygene"
      ]
    },
    {
      "cell_type": "code",
      "execution_count": null,
      "metadata": {
        "id": "3UfrJpipYLTo"
      },
      "outputs": [],
      "source": [
        "import mygene\n",
        "mg = mygene.MyGeneInfo()"
      ]
    },
    {
      "cell_type": "code",
      "execution_count": null,
      "metadata": {
        "colab": {
          "base_uri": "https://localhost:8080/"
        },
        "id": "rjlJCEbFkBFX",
        "outputId": "ee23fbef-5630-438c-8fd8-4732064359bb"
      },
      "outputs": [
        {
          "output_type": "stream",
          "name": "stdout",
          "text": [
            "Requirement already satisfied: matplotlib-venn in /usr/local/lib/python3.7/dist-packages (0.11.6)\n",
            "Requirement already satisfied: matplotlib in /usr/local/lib/python3.7/dist-packages (from matplotlib-venn) (3.2.2)\n",
            "Requirement already satisfied: scipy in /usr/local/lib/python3.7/dist-packages (from matplotlib-venn) (1.4.1)\n",
            "Requirement already satisfied: numpy in /usr/local/lib/python3.7/dist-packages (from matplotlib-venn) (1.21.5)\n",
            "Requirement already satisfied: kiwisolver>=1.0.1 in /usr/local/lib/python3.7/dist-packages (from matplotlib->matplotlib-venn) (1.4.0)\n",
            "Requirement already satisfied: python-dateutil>=2.1 in /usr/local/lib/python3.7/dist-packages (from matplotlib->matplotlib-venn) (2.8.2)\n",
            "Requirement already satisfied: pyparsing!=2.0.4,!=2.1.2,!=2.1.6,>=2.0.1 in /usr/local/lib/python3.7/dist-packages (from matplotlib->matplotlib-venn) (3.0.7)\n",
            "Requirement already satisfied: cycler>=0.10 in /usr/local/lib/python3.7/dist-packages (from matplotlib->matplotlib-venn) (0.11.0)\n",
            "Requirement already satisfied: typing-extensions in /usr/local/lib/python3.7/dist-packages (from kiwisolver>=1.0.1->matplotlib->matplotlib-venn) (3.10.0.2)\n",
            "Requirement already satisfied: six>=1.5 in /usr/local/lib/python3.7/dist-packages (from python-dateutil>=2.1->matplotlib->matplotlib-venn) (1.15.0)\n"
          ]
        }
      ],
      "source": [
        "!pip install matplotlib-venn"
      ]
    },
    {
      "cell_type": "code",
      "execution_count": null,
      "metadata": {
        "id": "P5Bo19ILtgiS"
      },
      "outputs": [],
      "source": [
        "import numpy as np\n",
        "from functools import reduce\n",
        "from matplotlib_venn import venn2, venn2_circles, venn2_unweighted\n",
        "from matplotlib_venn import venn3, venn3_circles"
      ]
    },
    {
      "cell_type": "code",
      "execution_count": null,
      "metadata": {
        "colab": {
          "base_uri": "https://localhost:8080/"
        },
        "id": "g_w0jbNsVUno",
        "outputId": "e1e0c23f-4e3d-41c6-eb3e-b20a9196f0bc"
      },
      "outputs": [
        {
          "output_type": "stream",
          "name": "stdout",
          "text": [
            "Downloading...\n",
            "From: https://drive.google.com/uc?id=1CphhxF227Dk9pbItUSA-Q9cATcDowOeZ\n",
            "To: /content/ncg_luad.csv\n",
            "100% 755/755 [00:00<00:00, 1.18MB/s]\n",
            "Downloading...\n",
            "From: https://drive.google.com/uc?id=1J72-byYZ7yECfVIB4c79d6nGwC4MUqUM\n",
            "To: /content/KEGG_luad.csv\n",
            "100% 265/265 [00:00<00:00, 347kB/s]\n",
            "Downloading...\n",
            "From: https://drive.google.com/uc?id=1rLPdxLqBSIuhSVNPeRv5UTFJk7SxK70K\n",
            "To: /content/DisGeNET_luad.csv\n",
            "100% 37.1k/37.1k [00:00<00:00, 31.9MB/s]\n",
            "Downloading...\n",
            "From: https://drive.google.com/uc?id=1MJxpT78cUFWGjZmoV-fb4BNHqqk4JnG1\n",
            "To: /content/GE_de_genes_with_correction.csv\n",
            "100% 469k/469k [00:00<00:00, 37.1MB/s]\n",
            "Downloading...\n",
            "From: https://drive.google.com/uc?id=1zKP9h4tg4YaBd8b9JXU02jNyC7EelraY\n",
            "To: /content/mirna.txt\n",
            "100% 2.90M/2.90M [00:00<00:00, 97.3MB/s]\n"
          ]
        }
      ],
      "source": [
        "!gdown --id 1CphhxF227Dk9pbItUSA-Q9cATcDowOeZ\n",
        "!gdown --id 1J72-byYZ7yECfVIB4c79d6nGwC4MUqUM\n",
        "!gdown --id 1rLPdxLqBSIuhSVNPeRv5UTFJk7SxK70K\n",
        "!gdown --id 1MJxpT78cUFWGjZmoV-fb4BNHqqk4JnG1\n",
        "!gdown --id 1zKP9h4tg4YaBd8b9JXU02jNyC7EelraY\n"
      ]
    },
    {
      "cell_type": "code",
      "execution_count": null,
      "metadata": {
        "colab": {
          "base_uri": "https://localhost:8080/"
        },
        "id": "lLlgdj6Eho0E",
        "outputId": "ffbe3ea7-b1e8-4f2b-ebad-8251eb062fa6"
      },
      "outputs": [
        {
          "output_type": "stream",
          "name": "stdout",
          "text": [
            "Retrieving folder list\n",
            "Processing file 1rLPdxLqBSIuhSVNPeRv5UTFJk7SxK70K DisGeNET_luad.csv\n",
            "Processing file 1MJxpT78cUFWGjZmoV-fb4BNHqqk4JnG1 GE_de_genes_with_correction.csv\n",
            "Processing file 1J72-byYZ7yECfVIB4c79d6nGwC4MUqUM KEGG_luad.csv\n",
            "Processing file 1gExWHCrPsQb8Yg9FvKJ6CQSJXIYwmQt5nXIAWsYYUMg KEGG,DisGeNET,NCG Genes\n",
            "Processing file 1zKP9h4tg4YaBd8b9JXU02jNyC7EelraY mirna.txt\n",
            "Processing file 1CphhxF227Dk9pbItUSA-Q9cATcDowOeZ ncg_luad.csv\n",
            "Processing file 1JJfsHdAp1yszfwM59j1pP70Se2JohkPJ Pathway_Analysis_and_GSEA.ipynb\n",
            "Processing file 1cHNKhBSqJrNyumEb4kd9YGoNk2_0W6SN Pathway_Network_Analysis.ipynb\n",
            "Processing file 1YNSicd0yR-Hnj6jl3yTqK6cvn2TMy9ZV string_preprocessed.tsv\n",
            "Processing file 1DJsrfhIcDe5MECMQIHrPzV9526FMpbxs STRINGdb.ipynb\n",
            "Retrieving folder list completed\n",
            "Building directory structure\n",
            "Building directory structure completed\n",
            "Downloading...\n",
            "From: https://drive.google.com/uc?id=1rLPdxLqBSIuhSVNPeRv5UTFJk7SxK70K\n",
            "To: /content/Network and Pathway Analysis/DisGeNET_luad.csv\n",
            "100% 37.1k/37.1k [00:00<00:00, 60.2MB/s]\n",
            "Downloading...\n",
            "From: https://drive.google.com/uc?id=1MJxpT78cUFWGjZmoV-fb4BNHqqk4JnG1\n",
            "To: /content/Network and Pathway Analysis/GE_de_genes_with_correction.csv\n",
            "100% 469k/469k [00:00<00:00, 118MB/s]\n",
            "Downloading...\n",
            "From: https://drive.google.com/uc?id=1J72-byYZ7yECfVIB4c79d6nGwC4MUqUM\n",
            "To: /content/Network and Pathway Analysis/KEGG_luad.csv\n",
            "100% 265/265 [00:00<00:00, 636kB/s]\n",
            "Access denied with the following error:\n",
            "\n",
            " \tCannot retrieve the public link of the file. You may need to change\n",
            "\tthe permission to 'Anyone with the link', or have had many accesses. \n",
            "\n",
            "You may still be able to access the file from the browser:\n",
            "\n",
            "\t https://drive.google.com/uc?id=1gExWHCrPsQb8Yg9FvKJ6CQSJXIYwmQt5nXIAWsYYUMg \n",
            "\n",
            "Download ended unsuccessfully\n"
          ]
        }
      ],
      "source": [
        "!gdown --folder 'https://drive.google.com/drive/folders/1V6-lJg4nqFe3G40Rx0yhvBIHq67WqHwt?usp=sharing'"
      ]
    },
    {
      "cell_type": "code",
      "execution_count": null,
      "metadata": {
        "id": "K56A6onPKdbR"
      },
      "outputs": [],
      "source": [
        "methyl_list = ['APEX2', 'CASK', 'CCNQ', 'CDKL5', 'CETN2', 'CH17-340M24.3', 'CMC4',\n",
        "       'DDX3Y', 'EIF1AY', 'EIF4EP2', 'ELK1', 'EMD', 'ENSG00000227933',\n",
        "       'ENSG00000238220', 'ENSG00000259985', 'ENSG00000260782',\n",
        "       'ENSG00000268107', 'ENSG00000274086', 'ENSG00000281741',\n",
        "       'ENSG00000285314', 'EOLA1', 'FAM120C', 'FAM197Y8', 'FAM72A', 'FAM72B',\n",
        "       'FGF14-IT1', 'G6PD', 'GPS2P2', 'GRIPAP1', 'HCFC1', 'IDH3G', 'IRAK1',\n",
        "       'KANTR', 'LINC01560', 'LINC02409', 'LINC02595', 'LRRC10B', 'MOSPD2',\n",
        "       'MTMR1', 'OCRL', 'OR4C4P', 'PHKA2', 'PLXNA3', 'PRKY', 'PSMD10',\n",
        "       'RASA4B', 'RBM10', 'RNU6-653P', 'RPL36A-HNRNPH2', 'SHROOM2P1',\n",
        "       'SLC25A14', 'TAF9B', 'TAFAZZIN', 'TBL1Y', 'TCEAL3', 'TCEAL8', 'TMSB4Y',\n",
        "       'TRBJ2-4', 'TRBJ2-5', 'TRBJ2-6', 'TSPY18P', 'ULK4P3', 'UXT', 'WHAMMP2',\n",
        "       'XIAP', 'ZNF182', 'ZNF542P', 'ZNF674'] "
      ]
    },
    {
      "cell_type": "code",
      "execution_count": null,
      "metadata": {
        "id": "AUZWz9YYbhMG"
      },
      "outputs": [],
      "source": [
        "methdf = pd.DataFrame(methyl_list, columns =['Genes'])"
      ]
    },
    {
      "cell_type": "code",
      "execution_count": null,
      "metadata": {
        "id": "4XKiMzUKap3b"
      },
      "outputs": [],
      "source": [
        "\n",
        "kegg = pd.read_csv('KEGG_luad.csv')\n",
        "ncg = pd.read_csv(\"ncg_luad.csv\")\n",
        "disgenet = pd.read_csv('DisGeNET_luad.csv')\n"
      ]
    },
    {
      "cell_type": "code",
      "execution_count": null,
      "metadata": {
        "id": "J16xItBUhavf"
      },
      "outputs": [],
      "source": [
        "kegg = kegg.rename(columns= {'Gene Names': 'Genes'})"
      ]
    },
    {
      "cell_type": "code",
      "execution_count": null,
      "metadata": {
        "id": "IF409JV2hptM"
      },
      "outputs": [],
      "source": [
        "ncg = ncg.rename(columns= {'Gene Names': 'Genes'})\n",
        "disgenet = disgenet.rename(columns= {'Gene Names': 'Genes'})"
      ]
    },
    {
      "cell_type": "code",
      "execution_count": null,
      "metadata": {
        "id": "EK8HpRPSh3GS"
      },
      "outputs": [],
      "source": [
        "kegg = kegg.drop_duplicates(subset = 'Genes')\n",
        "ncg = ncg.drop_duplicates(subset = 'Genes')\n",
        "disgenet = disgenet.drop_duplicates(subset = 'Genes')"
      ]
    },
    {
      "cell_type": "code",
      "execution_count": null,
      "metadata": {
        "id": "elkOTzaTcvmi"
      },
      "outputs": [],
      "source": [
        "methdf = methdf.rename(columns= {'Target': 'Genes'})"
      ]
    },
    {
      "cell_type": "code",
      "execution_count": null,
      "metadata": {
        "id": "6NIferJOnOH1"
      },
      "outputs": [],
      "source": [
        "methdf = methdf.drop_duplicates(subset = 'Genes')"
      ]
    },
    {
      "cell_type": "code",
      "execution_count": null,
      "metadata": {
        "id": "SLlnHOyDn3iu"
      },
      "outputs": [],
      "source": [
        "methdf = pd.DataFrame(methdf)"
      ]
    },
    {
      "cell_type": "code",
      "execution_count": null,
      "metadata": {
        "id": "YO3_Rdwcjhv6"
      },
      "outputs": [],
      "source": [
        "rna_de_genes = pd.read_csv(\"GE_de_genes_with_correction.csv\")"
      ]
    },
    {
      "cell_type": "code",
      "execution_count": null,
      "metadata": {
        "id": "PybpzjmmkwPL"
      },
      "outputs": [],
      "source": [
        "rna_de_genes = pd.DataFrame(rna_de_genes)"
      ]
    },
    {
      "cell_type": "code",
      "execution_count": null,
      "metadata": {
        "id": "1fHOpE4ammaJ",
        "colab": {
          "base_uri": "https://localhost:8080/"
        },
        "outputId": "d4022b5c-b968-4e6b-aec0-faa5eb3719fd"
      },
      "outputs": [
        {
          "output_type": "stream",
          "name": "stdout",
          "text": [
            "querying 1-1000...done.\n",
            "querying 1001-2000...done.\n",
            "querying 2001-3000...done.\n",
            "querying 3001-4000...done.\n",
            "querying 4001-5000...done.\n",
            "querying 5001-5796...done.\n",
            "Finished.\n",
            "534 input query terms found no hit:\n",
            "\t['ENSG00000221623', 'ENSG00000216027', 'ENSG00000215365', 'ENSG00000275089', 'ENSG00000264038', 'ENS\n",
            "Pass \"returnall=True\" to return complete lists of duplicate or missing query terms.\n"
          ]
        }
      ],
      "source": [
        "genesyms = mg.querymany(rna_de_genes['names'], fields='symbol', species='human', as_dataframe=True)\n"
      ]
    },
    {
      "cell_type": "code",
      "execution_count": null,
      "metadata": {
        "id": "wBcHiNH9jcD8",
        "outputId": "886d69ad-46e1-4f12-a370-27611f6d64e8"
      },
      "outputs": [
        {
          "name": "stdout",
          "output_type": "stream",
          "text": [
            "                             _id     _score notfound     symbol\n",
            "query                                                          \n",
            "ENSG00000278160  ENSG00000278160  26.119720      NaN        NaN\n",
            "ENSG00000221623              NaN        NaN     True        NaN\n",
            "ENSG00000252900  ENSG00000252900   8.428185      NaN  RNU6-303P\n",
            "ENSG00000278358  ENSG00000278358  26.126940      NaN        NaN\n",
            "ENSG00000216027              NaN        NaN     True        NaN\n",
            "...                          ...        ...      ...        ...\n",
            "ENSG00000221589              NaN        NaN     True        NaN\n",
            "ENSG00000273863  ENSG00000273863  26.122316      NaN        NaN\n",
            "ENSG00000251998  ENSG00000251998   8.428185      NaN  RNU6-168P\n",
            "ENSG00000221548        100302205  24.756824      NaN  MIR1283-2\n",
            "ENSG00000251808              NaN        NaN     True        NaN\n",
            "\n",
            "[5796 rows x 4 columns]\n"
          ]
        }
      ],
      "source": [
        "print(genesyms)"
      ]
    },
    {
      "cell_type": "code",
      "execution_count": null,
      "metadata": {
        "id": "3tOvxYwSoMIX"
      },
      "outputs": [],
      "source": [
        "genesyms[\"_id\"].fillna(genesyms.index.to_series(), inplace = True)"
      ]
    },
    {
      "cell_type": "code",
      "execution_count": null,
      "metadata": {
        "id": "vZQwclFFulXo"
      },
      "outputs": [],
      "source": [
        "genesyms[\"symbol\"].fillna(genesyms[\"_id\"], inplace = True)"
      ]
    },
    {
      "cell_type": "code",
      "execution_count": null,
      "metadata": {
        "id": "DH2GwENwvrBm",
        "outputId": "6067f5d9-72ae-4ca4-91a4-d94124ceb18a"
      },
      "outputs": [
        {
          "data": {
            "text/html": [
              "<div>\n",
              "<style scoped>\n",
              "    .dataframe tbody tr th:only-of-type {\n",
              "        vertical-align: middle;\n",
              "    }\n",
              "\n",
              "    .dataframe tbody tr th {\n",
              "        vertical-align: top;\n",
              "    }\n",
              "\n",
              "    .dataframe thead th {\n",
              "        text-align: right;\n",
              "    }\n",
              "</style>\n",
              "<table border=\"1\" class=\"dataframe\">\n",
              "  <thead>\n",
              "    <tr style=\"text-align: right;\">\n",
              "      <th></th>\n",
              "      <th>_id</th>\n",
              "      <th>_score</th>\n",
              "      <th>notfound</th>\n",
              "      <th>symbol</th>\n",
              "    </tr>\n",
              "    <tr>\n",
              "      <th>query</th>\n",
              "      <th></th>\n",
              "      <th></th>\n",
              "      <th></th>\n",
              "      <th></th>\n",
              "    </tr>\n",
              "  </thead>\n",
              "  <tbody>\n",
              "    <tr>\n",
              "      <th>ENSG00000278160</th>\n",
              "      <td>ENSG00000278160</td>\n",
              "      <td>26.119720</td>\n",
              "      <td>NaN</td>\n",
              "      <td>ENSG00000278160</td>\n",
              "    </tr>\n",
              "    <tr>\n",
              "      <th>ENSG00000221623</th>\n",
              "      <td>ENSG00000221623</td>\n",
              "      <td>NaN</td>\n",
              "      <td>True</td>\n",
              "      <td>ENSG00000221623</td>\n",
              "    </tr>\n",
              "    <tr>\n",
              "      <th>ENSG00000252900</th>\n",
              "      <td>ENSG00000252900</td>\n",
              "      <td>8.428185</td>\n",
              "      <td>NaN</td>\n",
              "      <td>RNU6-303P</td>\n",
              "    </tr>\n",
              "    <tr>\n",
              "      <th>ENSG00000278358</th>\n",
              "      <td>ENSG00000278358</td>\n",
              "      <td>26.126940</td>\n",
              "      <td>NaN</td>\n",
              "      <td>ENSG00000278358</td>\n",
              "    </tr>\n",
              "    <tr>\n",
              "      <th>ENSG00000216027</th>\n",
              "      <td>ENSG00000216027</td>\n",
              "      <td>NaN</td>\n",
              "      <td>True</td>\n",
              "      <td>ENSG00000216027</td>\n",
              "    </tr>\n",
              "    <tr>\n",
              "      <th>...</th>\n",
              "      <td>...</td>\n",
              "      <td>...</td>\n",
              "      <td>...</td>\n",
              "      <td>...</td>\n",
              "    </tr>\n",
              "    <tr>\n",
              "      <th>ENSG00000221589</th>\n",
              "      <td>ENSG00000221589</td>\n",
              "      <td>NaN</td>\n",
              "      <td>True</td>\n",
              "      <td>ENSG00000221589</td>\n",
              "    </tr>\n",
              "    <tr>\n",
              "      <th>ENSG00000273863</th>\n",
              "      <td>ENSG00000273863</td>\n",
              "      <td>26.122316</td>\n",
              "      <td>NaN</td>\n",
              "      <td>ENSG00000273863</td>\n",
              "    </tr>\n",
              "    <tr>\n",
              "      <th>ENSG00000251998</th>\n",
              "      <td>ENSG00000251998</td>\n",
              "      <td>8.428185</td>\n",
              "      <td>NaN</td>\n",
              "      <td>RNU6-168P</td>\n",
              "    </tr>\n",
              "    <tr>\n",
              "      <th>ENSG00000221548</th>\n",
              "      <td>100302205</td>\n",
              "      <td>24.756824</td>\n",
              "      <td>NaN</td>\n",
              "      <td>MIR1283-2</td>\n",
              "    </tr>\n",
              "    <tr>\n",
              "      <th>ENSG00000251808</th>\n",
              "      <td>ENSG00000251808</td>\n",
              "      <td>NaN</td>\n",
              "      <td>True</td>\n",
              "      <td>ENSG00000251808</td>\n",
              "    </tr>\n",
              "  </tbody>\n",
              "</table>\n",
              "<p>5796 rows × 4 columns</p>\n",
              "</div>"
            ],
            "text/plain": [
              "                             _id     _score notfound           symbol\n",
              "query                                                                \n",
              "ENSG00000278160  ENSG00000278160  26.119720      NaN  ENSG00000278160\n",
              "ENSG00000221623  ENSG00000221623        NaN     True  ENSG00000221623\n",
              "ENSG00000252900  ENSG00000252900   8.428185      NaN        RNU6-303P\n",
              "ENSG00000278358  ENSG00000278358  26.126940      NaN  ENSG00000278358\n",
              "ENSG00000216027  ENSG00000216027        NaN     True  ENSG00000216027\n",
              "...                          ...        ...      ...              ...\n",
              "ENSG00000221589  ENSG00000221589        NaN     True  ENSG00000221589\n",
              "ENSG00000273863  ENSG00000273863  26.122316      NaN  ENSG00000273863\n",
              "ENSG00000251998  ENSG00000251998   8.428185      NaN        RNU6-168P\n",
              "ENSG00000221548        100302205  24.756824      NaN        MIR1283-2\n",
              "ENSG00000251808  ENSG00000251808        NaN     True  ENSG00000251808\n",
              "\n",
              "[5796 rows x 4 columns]"
            ]
          },
          "execution_count": 25,
          "metadata": {},
          "output_type": "execute_result"
        }
      ],
      "source": [
        "genesyms"
      ]
    },
    {
      "cell_type": "code",
      "execution_count": null,
      "metadata": {
        "id": "6ox_pkg1dJh4"
      },
      "outputs": [],
      "source": [
        "genesyms = genesyms.rename(columns= {'symbol': 'Genes'})"
      ]
    },
    {
      "cell_type": "code",
      "execution_count": null,
      "metadata": {
        "id": "qljDq7eAwEHY"
      },
      "outputs": [],
      "source": [
        "genesyms = genesyms.drop(columns = [\"_id\", \"_score\", \"notfound\"])\n",
        "genesyms = genesyms.reset_index(drop=True)"
      ]
    },
    {
      "cell_type": "code",
      "execution_count": null,
      "metadata": {
        "id": "USSy-bB90kT0"
      },
      "outputs": [],
      "source": [
        "genesyms = genesyms.drop_duplicates(subset = 'Genes')"
      ]
    },
    {
      "cell_type": "code",
      "execution_count": null,
      "metadata": {
        "id": "UsCYd4GEvNUI",
        "outputId": "32c72552-42f9-489a-88ee-9809d26b39da"
      },
      "outputs": [
        {
          "data": {
            "text/html": [
              "<div>\n",
              "<style scoped>\n",
              "    .dataframe tbody tr th:only-of-type {\n",
              "        vertical-align: middle;\n",
              "    }\n",
              "\n",
              "    .dataframe tbody tr th {\n",
              "        vertical-align: top;\n",
              "    }\n",
              "\n",
              "    .dataframe thead th {\n",
              "        text-align: right;\n",
              "    }\n",
              "</style>\n",
              "<table border=\"1\" class=\"dataframe\">\n",
              "  <thead>\n",
              "    <tr style=\"text-align: right;\">\n",
              "      <th></th>\n",
              "      <th>Genes</th>\n",
              "    </tr>\n",
              "  </thead>\n",
              "  <tbody>\n",
              "    <tr>\n",
              "      <th>0</th>\n",
              "      <td>ENSG00000278160</td>\n",
              "    </tr>\n",
              "    <tr>\n",
              "      <th>1</th>\n",
              "      <td>ENSG00000221623</td>\n",
              "    </tr>\n",
              "    <tr>\n",
              "      <th>2</th>\n",
              "      <td>RNU6-303P</td>\n",
              "    </tr>\n",
              "    <tr>\n",
              "      <th>3</th>\n",
              "      <td>ENSG00000278358</td>\n",
              "    </tr>\n",
              "    <tr>\n",
              "      <th>4</th>\n",
              "      <td>ENSG00000216027</td>\n",
              "    </tr>\n",
              "    <tr>\n",
              "      <th>...</th>\n",
              "      <td>...</td>\n",
              "    </tr>\n",
              "    <tr>\n",
              "      <th>5791</th>\n",
              "      <td>ENSG00000221589</td>\n",
              "    </tr>\n",
              "    <tr>\n",
              "      <th>5792</th>\n",
              "      <td>ENSG00000273863</td>\n",
              "    </tr>\n",
              "    <tr>\n",
              "      <th>5793</th>\n",
              "      <td>RNU6-168P</td>\n",
              "    </tr>\n",
              "    <tr>\n",
              "      <th>5794</th>\n",
              "      <td>MIR1283-2</td>\n",
              "    </tr>\n",
              "    <tr>\n",
              "      <th>5795</th>\n",
              "      <td>ENSG00000251808</td>\n",
              "    </tr>\n",
              "  </tbody>\n",
              "</table>\n",
              "<p>5660 rows × 1 columns</p>\n",
              "</div>"
            ],
            "text/plain": [
              "                Genes\n",
              "0     ENSG00000278160\n",
              "1     ENSG00000221623\n",
              "2           RNU6-303P\n",
              "3     ENSG00000278358\n",
              "4     ENSG00000216027\n",
              "...               ...\n",
              "5791  ENSG00000221589\n",
              "5792  ENSG00000273863\n",
              "5793        RNU6-168P\n",
              "5794        MIR1283-2\n",
              "5795  ENSG00000251808\n",
              "\n",
              "[5660 rows x 1 columns]"
            ]
          },
          "execution_count": 96,
          "metadata": {},
          "output_type": "execute_result"
        }
      ],
      "source": [
        "genesyms"
      ]
    },
    {
      "cell_type": "code",
      "execution_count": null,
      "metadata": {
        "id": "JkL-o6YbZYxX"
      },
      "outputs": [],
      "source": [
        "mi_gene = pd.read_csv(\"top10mirna.txt\",names = [\"Genes\"], header = None)\n",
        "mi_gene = mi_gene.drop_duplicates(subset = 'Genes')\n",
        "mi_gene = pd.DataFrame(mi_gene)"
      ]
    },
    {
      "cell_type": "code",
      "execution_count": null,
      "metadata": {
        "id": "Q6xvD9C004ux",
        "colab": {
          "base_uri": "https://localhost:8080/",
          "height": 424
        },
        "outputId": "5dde710a-2d92-4a33-fedf-f4ffb4f6a5d6"
      },
      "outputs": [
        {
          "output_type": "execute_result",
          "data": {
            "text/plain": [
              "        Genes\n",
              "0     C6orf99\n",
              "1     Adamts1\n",
              "2        KLC3\n",
              "3     PCDHGA5\n",
              "4    SLC25A48\n",
              "..        ...\n",
              "995     CMTM2\n",
              "996     HOXD4\n",
              "997  MIRLET7D\n",
              "998    PKD2L2\n",
              "999     PKHD1\n",
              "\n",
              "[1000 rows x 1 columns]"
            ],
            "text/html": [
              "\n",
              "  <div id=\"df-7887586f-a179-4a9b-b323-2cd4d3124fa8\">\n",
              "    <div class=\"colab-df-container\">\n",
              "      <div>\n",
              "<style scoped>\n",
              "    .dataframe tbody tr th:only-of-type {\n",
              "        vertical-align: middle;\n",
              "    }\n",
              "\n",
              "    .dataframe tbody tr th {\n",
              "        vertical-align: top;\n",
              "    }\n",
              "\n",
              "    .dataframe thead th {\n",
              "        text-align: right;\n",
              "    }\n",
              "</style>\n",
              "<table border=\"1\" class=\"dataframe\">\n",
              "  <thead>\n",
              "    <tr style=\"text-align: right;\">\n",
              "      <th></th>\n",
              "      <th>Genes</th>\n",
              "    </tr>\n",
              "  </thead>\n",
              "  <tbody>\n",
              "    <tr>\n",
              "      <th>0</th>\n",
              "      <td>C6orf99</td>\n",
              "    </tr>\n",
              "    <tr>\n",
              "      <th>1</th>\n",
              "      <td>Adamts1</td>\n",
              "    </tr>\n",
              "    <tr>\n",
              "      <th>2</th>\n",
              "      <td>KLC3</td>\n",
              "    </tr>\n",
              "    <tr>\n",
              "      <th>3</th>\n",
              "      <td>PCDHGA5</td>\n",
              "    </tr>\n",
              "    <tr>\n",
              "      <th>4</th>\n",
              "      <td>SLC25A48</td>\n",
              "    </tr>\n",
              "    <tr>\n",
              "      <th>...</th>\n",
              "      <td>...</td>\n",
              "    </tr>\n",
              "    <tr>\n",
              "      <th>995</th>\n",
              "      <td>CMTM2</td>\n",
              "    </tr>\n",
              "    <tr>\n",
              "      <th>996</th>\n",
              "      <td>HOXD4</td>\n",
              "    </tr>\n",
              "    <tr>\n",
              "      <th>997</th>\n",
              "      <td>MIRLET7D</td>\n",
              "    </tr>\n",
              "    <tr>\n",
              "      <th>998</th>\n",
              "      <td>PKD2L2</td>\n",
              "    </tr>\n",
              "    <tr>\n",
              "      <th>999</th>\n",
              "      <td>PKHD1</td>\n",
              "    </tr>\n",
              "  </tbody>\n",
              "</table>\n",
              "<p>1000 rows × 1 columns</p>\n",
              "</div>\n",
              "      <button class=\"colab-df-convert\" onclick=\"convertToInteractive('df-7887586f-a179-4a9b-b323-2cd4d3124fa8')\"\n",
              "              title=\"Convert this dataframe to an interactive table.\"\n",
              "              style=\"display:none;\">\n",
              "        \n",
              "  <svg xmlns=\"http://www.w3.org/2000/svg\" height=\"24px\"viewBox=\"0 0 24 24\"\n",
              "       width=\"24px\">\n",
              "    <path d=\"M0 0h24v24H0V0z\" fill=\"none\"/>\n",
              "    <path d=\"M18.56 5.44l.94 2.06.94-2.06 2.06-.94-2.06-.94-.94-2.06-.94 2.06-2.06.94zm-11 1L8.5 8.5l.94-2.06 2.06-.94-2.06-.94L8.5 2.5l-.94 2.06-2.06.94zm10 10l.94 2.06.94-2.06 2.06-.94-2.06-.94-.94-2.06-.94 2.06-2.06.94z\"/><path d=\"M17.41 7.96l-1.37-1.37c-.4-.4-.92-.59-1.43-.59-.52 0-1.04.2-1.43.59L10.3 9.45l-7.72 7.72c-.78.78-.78 2.05 0 2.83L4 21.41c.39.39.9.59 1.41.59.51 0 1.02-.2 1.41-.59l7.78-7.78 2.81-2.81c.8-.78.8-2.07 0-2.86zM5.41 20L4 18.59l7.72-7.72 1.47 1.35L5.41 20z\"/>\n",
              "  </svg>\n",
              "      </button>\n",
              "      \n",
              "  <style>\n",
              "    .colab-df-container {\n",
              "      display:flex;\n",
              "      flex-wrap:wrap;\n",
              "      gap: 12px;\n",
              "    }\n",
              "\n",
              "    .colab-df-convert {\n",
              "      background-color: #E8F0FE;\n",
              "      border: none;\n",
              "      border-radius: 50%;\n",
              "      cursor: pointer;\n",
              "      display: none;\n",
              "      fill: #1967D2;\n",
              "      height: 32px;\n",
              "      padding: 0 0 0 0;\n",
              "      width: 32px;\n",
              "    }\n",
              "\n",
              "    .colab-df-convert:hover {\n",
              "      background-color: #E2EBFA;\n",
              "      box-shadow: 0px 1px 2px rgba(60, 64, 67, 0.3), 0px 1px 3px 1px rgba(60, 64, 67, 0.15);\n",
              "      fill: #174EA6;\n",
              "    }\n",
              "\n",
              "    [theme=dark] .colab-df-convert {\n",
              "      background-color: #3B4455;\n",
              "      fill: #D2E3FC;\n",
              "    }\n",
              "\n",
              "    [theme=dark] .colab-df-convert:hover {\n",
              "      background-color: #434B5C;\n",
              "      box-shadow: 0px 1px 3px 1px rgba(0, 0, 0, 0.15);\n",
              "      filter: drop-shadow(0px 1px 2px rgba(0, 0, 0, 0.3));\n",
              "      fill: #FFFFFF;\n",
              "    }\n",
              "  </style>\n",
              "\n",
              "      <script>\n",
              "        const buttonEl =\n",
              "          document.querySelector('#df-7887586f-a179-4a9b-b323-2cd4d3124fa8 button.colab-df-convert');\n",
              "        buttonEl.style.display =\n",
              "          google.colab.kernel.accessAllowed ? 'block' : 'none';\n",
              "\n",
              "        async function convertToInteractive(key) {\n",
              "          const element = document.querySelector('#df-7887586f-a179-4a9b-b323-2cd4d3124fa8');\n",
              "          const dataTable =\n",
              "            await google.colab.kernel.invokeFunction('convertToInteractive',\n",
              "                                                     [key], {});\n",
              "          if (!dataTable) return;\n",
              "\n",
              "          const docLinkHtml = 'Like what you see? Visit the ' +\n",
              "            '<a target=\"_blank\" href=https://colab.research.google.com/notebooks/data_table.ipynb>data table notebook</a>'\n",
              "            + ' to learn more about interactive tables.';\n",
              "          element.innerHTML = '';\n",
              "          dataTable['output_type'] = 'display_data';\n",
              "          await google.colab.output.renderOutput(dataTable, element);\n",
              "          const docLink = document.createElement('div');\n",
              "          docLink.innerHTML = docLinkHtml;\n",
              "          element.appendChild(docLink);\n",
              "        }\n",
              "      </script>\n",
              "    </div>\n",
              "  </div>\n",
              "  "
            ]
          },
          "metadata": {},
          "execution_count": 29
        }
      ],
      "source": [
        "# mi_gene = mi_gene.rename(columns= {'Target': 'Genes'})\n",
        "mi_gene"
      ]
    },
    {
      "cell_type": "markdown",
      "metadata": {
        "id": "_5-qq9Yrli_a"
      },
      "source": [
        "## Common Genes"
      ]
    },
    {
      "cell_type": "code",
      "execution_count": null,
      "metadata": {
        "id": "NU7RR0JNkYj7"
      },
      "outputs": [],
      "source": [
        "common_genes_mi_variant = mi_gene.merge(methdf, on= ['Genes'])"
      ]
    },
    {
      "cell_type": "code",
      "execution_count": null,
      "metadata": {
        "id": "vvO2JgKVjvn3"
      },
      "outputs": [],
      "source": [
        "common_genes_rna_mi = mi_gene.merge(genesyms, on= ['Genes'])"
      ]
    },
    {
      "cell_type": "code",
      "execution_count": null,
      "metadata": {
        "id": "2vwCawuikHNY"
      },
      "outputs": [],
      "source": [
        "common_genes_rna_variant = methdf.merge(genesyms, on= ['Genes'])"
      ]
    },
    {
      "cell_type": "code",
      "execution_count": null,
      "metadata": {
        "id": "HYSUtOooe9SP"
      },
      "outputs": [],
      "source": [
        "all_common = mi_gene.merge(common_genes_rna_variant,  on= ['Genes'])"
      ]
    },
    {
      "cell_type": "code",
      "execution_count": null,
      "metadata": {
        "id": "8ELmfVfTvNUT",
        "outputId": "d0be1976-5900-4805-e42a-1b01a8a1ae86"
      },
      "outputs": [
        {
          "data": {
            "text/html": [
              "<div>\n",
              "<style scoped>\n",
              "    .dataframe tbody tr th:only-of-type {\n",
              "        vertical-align: middle;\n",
              "    }\n",
              "\n",
              "    .dataframe tbody tr th {\n",
              "        vertical-align: top;\n",
              "    }\n",
              "\n",
              "    .dataframe thead th {\n",
              "        text-align: right;\n",
              "    }\n",
              "</style>\n",
              "<table border=\"1\" class=\"dataframe\">\n",
              "  <thead>\n",
              "    <tr style=\"text-align: right;\">\n",
              "      <th></th>\n",
              "      <th>Genes</th>\n",
              "    </tr>\n",
              "  </thead>\n",
              "  <tbody>\n",
              "  </tbody>\n",
              "</table>\n",
              "</div>"
            ],
            "text/plain": [
              "Empty DataFrame\n",
              "Columns: [Genes]\n",
              "Index: []"
            ]
          },
          "execution_count": 95,
          "metadata": {},
          "output_type": "execute_result"
        }
      ],
      "source": [
        " genesyms.merge(methdf, on= ['Genes'])"
      ]
    },
    {
      "cell_type": "code",
      "execution_count": null,
      "metadata": {
        "id": "MigUIZFPotEP",
        "colab": {
          "base_uri": "https://localhost:8080/",
          "height": 265
        },
        "outputId": "ffef3688-7963-4037-b645-f723753c4bb6"
      },
      "outputs": [
        {
          "output_type": "execute_result",
          "data": {
            "text/plain": [
              "<matplotlib_venn._common.VennDiagram at 0x7ff71047b450>"
            ]
          },
          "metadata": {},
          "execution_count": 34
        },
        {
          "output_type": "display_data",
          "data": {
            "text/plain": [
              "<Figure size 432x288 with 1 Axes>"
            ],
            "image/png": "[encoded data removed]"
          },
          "metadata": {}
        }
      ],
      "source": [
        "venn3(subsets = ((len(mi_gene)- (len(common_genes_rna_mi)+len(common_genes_mi_variant)))+len(all_common), \n",
        "                 (len(genesyms)-(len(common_genes_rna_mi)+len(common_genes_rna_variant)))+len(all_common), \n",
        "                 len(common_genes_rna_mi)-len(all_common), \n",
        "                 len(methdf)-(len(common_genes_mi_variant)+len(common_genes_rna_variant))+len(all_common), \n",
        "                 len(common_genes_mi_variant)-len(all_common), \n",
        "                 len(common_genes_rna_variant)-len(all_common), \n",
        "                 len(all_common)),\n",
        "      set_labels = ('Mi_RNA_Geneset', 'RNA_DE_Genes', 'Methylation_Analysis_Genes'),\n",
        "      alpha = 0.5)"
      ]
    },
    {
      "cell_type": "markdown",
      "metadata": {
        "id": "eAppMZQ5BkAc"
      },
      "source": [
        "## Common genes with RNA- Seq Analysis geneset\n",
        "\n",
        "\n"
      ]
    },
    {
      "cell_type": "code",
      "source": [
        "disgenet = disgenet.iloc[0:1000, 0:1]"
      ],
      "metadata": {
        "id": "aj-BGnHi7yYg"
      },
      "execution_count": null,
      "outputs": []
    },
    {
      "cell_type": "code",
      "execution_count": null,
      "metadata": {
        "id": "akEx7obsbSw0"
      },
      "outputs": [],
      "source": [
        "common_gene_disgenet = disgenet.merge(genesyms, on = ['Genes'])"
      ]
    },
    {
      "cell_type": "code",
      "execution_count": null,
      "metadata": {
        "id": "LpRPWOavbSw0",
        "colab": {
          "base_uri": "https://localhost:8080/",
          "height": 267
        },
        "outputId": "3dd04201-ed7a-491f-dade-cbef88c3dcba"
      },
      "outputs": [
        {
          "output_type": "execute_result",
          "data": {
            "text/plain": [
              "<matplotlib_venn._common.VennDiagram at 0x7ff70e18b650>"
            ]
          },
          "metadata": {},
          "execution_count": 45
        },
        {
          "output_type": "display_data",
          "data": {
            "text/plain": [
              "<Figure size 432x288 with 1 Axes>"
            ],
            "image/png": "[encoded data removed]"
          },
          "metadata": {}
        }
      ],
      "source": [
        "venn2(subsets = (len(genesyms)-len(common_gene_disgenet),\n",
        "                len(disgenet)-len(common_gene_disgenet),\n",
        "                len(common_gene_disgenet)),\n",
        "                 set_labels = ('RNAseq_geneset', 'LUAD Geneset'))"
      ]
    },
    {
      "cell_type": "code",
      "execution_count": null,
      "metadata": {
        "id": "FcHNWqbrbUw9"
      },
      "outputs": [],
      "source": [
        "common_mi_disgenet = disgenet.merge(mi_gene, on = ['Genes'])"
      ]
    },
    {
      "cell_type": "code",
      "execution_count": null,
      "metadata": {
        "id": "qY4nvLlWbUw-",
        "colab": {
          "base_uri": "https://localhost:8080/",
          "height": 241
        },
        "outputId": "0fd0931a-6d48-48c8-998a-1796694510b9"
      },
      "outputs": [
        {
          "output_type": "execute_result",
          "data": {
            "text/plain": [
              "<matplotlib_venn._common.VennDiagram at 0x7ff70e0e3e90>"
            ]
          },
          "metadata": {},
          "execution_count": 47
        },
        {
          "output_type": "display_data",
          "data": {
            "text/plain": [
              "<Figure size 432x288 with 1 Axes>"
            ],
            "image/png": "[encoded data removed]"
          },
          "metadata": {}
        }
      ],
      "source": [
        "venn2(subsets = (len(mi_gene)-len(common_mi_disgenet),\n",
        "                len(disgenet)-len(common_mi_disgenet),\n",
        "                len(common_mi_disgenet)),\n",
        "                 set_labels = ('miRNA_geneset', 'LUAD Geneset'))"
      ]
    },
    {
      "cell_type": "markdown",
      "metadata": {
        "id": "b4iKdRg2s0O7"
      },
      "source": [
        "##Methylation common genes"
      ]
    },
    {
      "cell_type": "code",
      "execution_count": null,
      "metadata": {
        "id": "8F6ivzQFvGaM"
      },
      "outputs": [],
      "source": [
        "common_meth_disgenet = disgenet.merge(methdf, on = ['Genes'])"
      ]
    },
    {
      "cell_type": "code",
      "execution_count": null,
      "metadata": {
        "id": "SkpRd3L0JxcI",
        "colab": {
          "base_uri": "https://localhost:8080/",
          "height": 267
        },
        "outputId": "78f3ab9e-9008-4694-b4d5-39edba7d0f86"
      },
      "outputs": [
        {
          "output_type": "execute_result",
          "data": {
            "text/plain": [
              "<matplotlib_venn._common.VennDiagram at 0x7ff70e0fa850>"
            ]
          },
          "metadata": {},
          "execution_count": 49
        },
        {
          "output_type": "display_data",
          "data": {
            "text/plain": [
              "<Figure size 432x288 with 1 Axes>"
            ],
            "image/png": "[encoded data removed]"
          },
          "metadata": {}
        }
      ],
      "source": [
        "venn2(subsets = (len(methdf)-len(common_meth_disgenet),\n",
        "                len(disgenet)-len(common_meth_disgenet),\n",
        "                len(common_meth_disgenet)),\n",
        "                 set_labels = ('Methylation_geneset', 'LUAD Geneset'))"
      ]
    }
  ],
  "metadata": {
    "colab": {
      "name": "Common_genes.ipynb",
      "provenance": []
    },
    "kernelspec": {
      "display_name": "Python 3 (ipykernel)",
      "language": "python",
      "name": "python3"
    },
    "language_info": {
      "codemirror_mode": {
        "name": "ipython",
        "version": 3
      },
      "file_extension": ".py",
      "mimetype": "text/x-python",
      "name": "python",
      "nbconvert_exporter": "python",
      "pygments_lexer": "ipython3",
      "version": "3.8.10"
    }
  },
  "nbformat": 4,
  "nbformat_minor": 0
}
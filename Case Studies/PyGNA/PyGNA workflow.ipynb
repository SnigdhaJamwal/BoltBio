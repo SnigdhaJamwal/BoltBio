{
 "cells": [
  {
   "cell_type": "markdown",
   "id": "82396fdd-7fd4-4ca3-9c2e-1bf12672312c",
   "metadata": {},
   "source": [
    "# PyGNA Workflow\n",
    "#### 1)Generate GMT files from CSV files in case GMT file isn't available  \n",
    "#### 2)Generate matrices\n",
    "#### 3)Perform analysis for single or multiple genesets. Get the results in the form of pdf or png\n"
   ]
  },
  {
   "cell_type": "markdown",
   "id": "f1e0d027-1833-4888-b43f-0532fe1ea8e5",
   "metadata": {},
   "source": [
    "## Data Loading"
   ]
  },
  {
   "cell_type": "markdown",
   "id": "0a169eb1-4b0d-40f1-b740-84c1dec42322",
   "metadata": {},
   "source": [
    "### Generating GMT files from  a table"
   ]
  },
  {
   "cell_type": "code",
   "execution_count": null,
   "id": "c1bfa534-2d9f-47f0-9075-7642b8d18ed6",
   "metadata": {},
   "outputs": [],
   "source": [
    "$ pygna geneset-from-table <filename>.csv <setname> <filename>.gmt --name-colum <gene_names_column> --filter-column <filter-col> <'less'> --threshold <th> --descriptor <descriptor string>\n",
    "$ pygna geneset-from-table <deseq>.csv diff_exp <deseq>.gmt --descriptor deseq#for table from deseq\n"
   ]
  },
  {
   "cell_type": "markdown",
   "id": "11287ba6-39f5-4194-8d5c-0592d05b740d",
   "metadata": {},
   "source": [
    "### Merging different Genesets"
   ]
  },
  {
   "cell_type": "markdown",
   "id": "4f0fd20c-40b2-4362-83dd-383db7e2779d",
   "metadata": {},
   "source": [
    "It is also possible to merge different setnames in a single gmt file through the function generate-group-gmt. You can override the default parameters, to match the columns in your table.*generate-group-gmt* generates a GMT file of multiple setnames. From the table file, it groups the names in the group_col (the column you want to use to group them) and prints the genes in the name_col. Set the descriptor according to your needs. OR you could simply concatenate all the files. "
   ]
  },
  {
   "cell_type": "markdown",
   "id": "5909f551-a2d7-45b2-a39e-552643a93838",
   "metadata": {},
   "source": [
    "## Computing rwr and sp matrices"
   ]
  },
  {
   "cell_type": "code",
   "execution_count": null,
   "id": "754d20e4-66a2-4d50-87cc-198eb074ea78",
   "metadata": {},
   "outputs": [],
   "source": [
    "$ pygna build-distance-matrix <network> <network_sp>.hdf5\n",
    "$ pygna build-rwr-diffusion <network> --output-file <network_rwr>.hdf5"
   ]
  },
  {
   "cell_type": "markdown",
   "id": "c71e6fe6-187f-4f17-9020-ba6aa0d5b822",
   "metadata": {},
   "source": [
    "## Topology Tests"
   ]
  },
  {
   "cell_type": "code",
   "execution_count": null,
   "id": "df9cd83f-8644-4213-ae62-a4f717e37534",
   "metadata": {},
   "outputs": [],
   "source": [
    "$ pygna test-topology-module <network> <geneset> <table_results_test>_topology_module.csv --number-of-permutations 100 --cores 4\n",
    "$ pygna test-topology-rwr <network> <geneset> <network_rwr>.hdf5 <table_results_test>_topology_rwr.csv --number-of-permutations 100 --cores 4\n",
    "$ pygna test-topology-internal-degree <network> <geneset> <table_results_test>_topology_internal_degree.csv --number-of-permutations 100 --cores 4\n",
    "$ pygna test-topology-sp <network> <geneset> <network_sp>.hdf5 <table_results_test>_topology_sp.csv --number-of-permutations 100 --cores 4\n",
    "$ pygna test-topology-total-degree <network> <geneset> <table_results_test>_topology_total_degree.csv --number-of-permutations 100 --cores 4"
   ]
  },
  {
   "cell_type": "markdown",
   "id": "bb5da2ec-81d8-49a7-a3ec-a6dbf6b4f1ca",
   "metadata": {},
   "source": [
    "## Association tests"
   ]
  },
  {
   "cell_type": "markdown",
   "id": "f4b5adf2-bf7e-4858-aa3d-9f6aa0ab4701",
   "metadata": {},
   "source": [
    "If only A_geneset_file is passed the analysis is run on all the pair of sets in the file, if both A_geneset_file and B_geneset_file are passed, one can specify the setnames for both, if there is only one geneset in the file, setname_X can be omitted, if both sets are in the same file, B_geneset_file can be not specified, but setnames are needed"
   ]
  },
  {
   "cell_type": "code",
   "execution_count": null,
   "id": "bb34b4ae-14d0-4a22-b6f1-ab9343c72d5b",
   "metadata": {},
   "outputs": [],
   "source": [
    "pygna test-association-rwr [-h] [--setname-a SETNAME_A] [--file-geneset-b FILE_GENESET_B] [--setname-b SETNAME_B] [--size-cut SIZE_CUT] [-k] [-c CORES] [-i]\n",
    "                                [--number-of-permutations NUMBER_OF_PERMUTATIONS] [--n-bins N_BINS] [--results-figure RESULTS_FIGURE]\n",
    "                                network-file file-geneset-a rwr-matrix-filename output-table\n",
    "\n",
    "    Performs comparison of network location analysis.\n",
    "\n",
    "    It computes a p-value for the shortest path distance\n",
    "    between two genesets being smaller than expected by chance.\n",
    "\n",
    "    If only A_geneset_file is passed the analysis is run on all the pair of sets in the file, if both\n",
    "    A_geneset_file and B_geneset_file are passed, one can specify the setnames for both, if there is only one\n",
    "    geneset in the file, setname_X can be omitted, if both sets are in the same file, B_geneset_file can be not\n",
    "    specified, but setnames are needed.\n",
    "\n",
    "\n",
    "positional arguments:\n",
    "network-file          network file\n",
    "file-geneset-a        GMT geneset file\n",
    "rwr-matrix-filename   .hdf5 file with the RWR matrix obtained by pygna\n",
    "output-table          output results table, use .csv extension\n",
    "\n",
    "optional arguments:\n",
    "-h, --help            show this help message and exit\n",
    "--setname-a SETNAME_A\n",
    "                        Geneset A to analyse (default: -)\n",
    "--file-geneset-b FILE_GENESET_B\n",
    "                        GMT geneset file (default: -)\n",
    "--setname-b SETNAME_B\n",
    "                        Geneset B to analyse (default: -)\n",
    "--size-cut SIZE_CUT   removes all genesets with a mapped length < size_cut (default: 20)\n",
    "-k, --keep            if true, keeps the geneset B unpermuted (default: False)\n",
    "-c CORES, --cores CORES\n",
    "                        Number of cores for the multiprocessing (default: 1)\n",
    "-i, --in-memory       set if you want the large matrix to be read in memory (default: False)\n",
    "--number-of-permutations NUMBER_OF_PERMUTATIONS\n",
    "                        number of permutations for computing the empirical pvalue (default: 500)\n",
    "--n-bins N_BINS       if >1 applies degree correction by binning the node degrees and sampling according to geneset distribution (default: 1)\n",
    "--results-figure RESULTS_FIGURE\n",
    "                        heatmap of results (default: -)"
   ]
  },
  {
   "cell_type": "code",
   "execution_count": null,
   "id": "d9a8138e-f0a0-4a6e-b107-c78d68a3ff06",
   "metadata": {},
   "outputs": [],
   "source": [
    "$ pygna test-association-sp <network> <geneset> <network_sp>.hdf5 <table_results_test>_association_sp.csv -B <geneset_pathways> --keep --number-of-permutations 100 --cores 4\n",
    "$ pygna test-association-rwr <network> <geneset> <network_rwr>.hdf5 <table_results_test>_association_rwr.csv -B <geneset_pathways> --keep --number-of-permutations 100 --cores 4\n"
   ]
  },
  {
   "cell_type": "markdown",
   "id": "45e9f7a6-eb9f-4dfa-b8e2-3eae14d45775",
   "metadata": {},
   "source": [
    "### Visualisation"
   ]
  },
  {
   "cell_type": "code",
   "execution_count": null,
   "id": "481f7788-ef77-4f5e-8d8b-2c1d7dae8c68",
   "metadata": {},
   "outputs": [],
   "source": [
    "Usage: pygna paint-datasets-stats [-h] [-a ALTERNATIVE] table-filename output-file #GNT barplot\n",
    "Usage: pygna paint-summary-gnt [-h] [-s SETNAME] [-t THRESHOLD] [-c COLUMN_FILTER] [--larger] [--less-tests LESS_TESTS] output-figure [input_tables [input_tables ...]]#GNT Summary\n",
    "Usage: pygna paint-comparison-matrix [-h] [-r] [-s] [-a] table-filename output-file#heatmap\n",
    "Usage: pygna paint-volcano-plot [-h] [-r] [-i ID_COL] [--threshold-x THRESHOLD_X] [--threshold-y THRESHOLD_Y] [-a] table-filename output-file#volcanoplot\n",
    "\n"
   ]
  },
  {
   "cell_type": "markdown",
   "id": "deea8a59-656f-41a4-ad40-dbb673ed00c0",
   "metadata": {},
   "source": [
    "### Snakemake Workflow"
   ]
  },
  {
   "cell_type": "markdown",
   "id": "54f261f1-ccdc-4823-a08d-008607f75e5b",
   "metadata": {},
   "source": [
    "1) Install Snakemake\n",
    "2) Make changes to the config file and rules files accordingly(changing the path/parameters etc)\n",
    "3) Run the analysis\n",
    "\n",
    "All the steps from above are boiled down to one or two steps.\n"
   ]
  },
  {
   "cell_type": "code",
   "execution_count": null,
   "id": "daddc6f2-8120-47a1-abb4-5cb1515c6fc3",
   "metadata": {},
   "outputs": [],
   "source": [
    "snakemake --use-conda -n#dry run\n"
   ]
  },
  {
   "cell_type": "code",
   "execution_count": null,
   "id": "d0f87e8b-05ad-4e5e-996e-cf77842a49bc",
   "metadata": {},
   "outputs": [],
   "source": [
    "snakemake --snakefile Snakefile_paper --configfile config_paper --use-conda --cores $N#to replicate the results of the paper"
   ]
  },
  {
   "cell_type": "markdown",
   "id": "b44c5655-10d0-4d63-9008-89ba679653ed",
   "metadata": {},
   "source": [
    "To obtain all the results for the single geneset (avoid the first step to have the full regeneration of all files):"
   ]
  },
  {
   "cell_type": "code",
   "execution_count": null,
   "id": "3c37315e-69e7-4d76-abef-e21de8db1ada",
   "metadata": {},
   "outputs": [],
   "source": [
    " snakemake snakemake --snakefile Snakefile_paper single_all --configfile config_paper_single.yaml -t \n",
    " \n",
    " snakemake --snakefile Snakefile_paper single_all --configfile config_paper_single.yaml --use-conda"
   ]
  },
  {
   "cell_type": "markdown",
   "id": "5a9d68ea-85eb-4750-a9cb-dfdf108423ba",
   "metadata": {},
   "source": [
    "To obtain the results for the multi geneset"
   ]
  },
  {
   "cell_type": "code",
   "execution_count": null,
   "id": "6883fc1d-9d13-4077-8721-dc2eeb6853e2",
   "metadata": {},
   "outputs": [],
   "source": [
    " snakemake snakemake --snakefile Snakefile_paper multi_all --configfile config_paper_multi.yaml -t \n",
    " \n",
    " snakemake --snakefile Snakefile_paper multi_all --configfile config_paper_multi.yaml"
   ]
  },
  {
   "cell_type": "markdown",
   "id": "493ffeaa-fd1e-4eea-96b8-c3d99f0d7b7a",
   "metadata": {},
   "source": [
    "## Paper Use Case"
   ]
  },
  {
   "cell_type": "markdown",
   "id": "f8615a66-5517-42b4-b0c4-ffe23a21a2f3",
   "metadata": {},
   "source": [
    "### Using Commandline"
   ]
  },
  {
   "cell_type": "markdown",
   "id": "3ca7e1c6-c50a-4822-b0d4-ca23fa91ddb5",
   "metadata": {},
   "source": [
    "Since the distance matrices are already built and the merged geneset(gmt) already obtained, topology and association analysis can be carried out directly.\n",
    "\n"
   ]
  },
  {
   "cell_type": "markdown",
   "id": "77542041-aa72-44d0-8791-38a3a4b57550",
   "metadata": {},
   "source": [
    "#### **Topology Analysis**"
   ]
  },
  {
   "cell_type": "code",
   "execution_count": 1,
   "id": "c88205e9-bc2d-48c0-ba78-3dc277263430",
   "metadata": {},
   "outputs": [],
   "source": [
    "#file names: biogrid_3.168_filtered.tsv merged.gmt goslim.gmt interactome_RWR.hdf5 interactome_SP.hdf5"
   ]
  },
  {
   "cell_type": "code",
   "execution_count": 3,
   "id": "5852e38c-cc48-4c46-ac85-6dd1421f46ac",
   "metadata": {},
   "outputs": [
    {
     "name": "stdout",
     "output_type": "stream",
     "text": [
      "/home/gee3/Documents/PyGNA/data_tcga_workflow/external\n"
     ]
    }
   ],
   "source": [
    "cd /home/gee3/Documents/PyGNA/data_tcga_workflow/external/"
   ]
  },
  {
   "cell_type": "code",
   "execution_count": 1,
   "id": "425b26ea-29e4-4f7f-a295-714883eaf518",
   "metadata": {},
   "outputs": [
    {
     "name": "stdout",
     "output_type": "stream",
     "text": [
      "INFO:root:Results file = table_topology_module3.csv\n",
      "INFO:root:Mapped 759 genes out of 986.\n",
      "INFO:root:Setname:tcga_brca\n",
      "INFO:root:Observed: 203 p-value: 1\n",
      "INFO:root:Mapped 172 genes out of 259.\n",
      "INFO:root:Setname:tcga_prad\n",
      "INFO:root:Observed: 5 p-value: 0.960396\n",
      "INFO:root:Mapped 1212 genes out of 1640.\n",
      "INFO:root:Setname:tcga_lusc\n",
      "INFO:root:Observed: 784 p-value: 0.019802\n",
      "INFO:root:Mapped 2295 genes out of 3247.\n",
      "INFO:root:Setname:tcga_laml\n",
      "INFO:root:Observed: 1629 p-value: 0.267327\n",
      "INFO:root:Mapped 1326 genes out of 1796.\n",
      "INFO:root:Setname:tcga_dlbc\n",
      "INFO:root:Observed: 870 p-value: 0.019802\n",
      "INFO:root:Mapped 568 genes out of 769.\n",
      "INFO:root:Setname:tcga_blca\n",
      "INFO:root:Observed: 63 p-value: 1\n"
     ]
    }
   ],
   "source": [
    "! pygna test-topology-module biogrid_3.168_filtered.tsv merged.gmt table_topology_module3.csv --number-of-permutations 100 --cores 2\n",
    "\n",
    "\n",
    "\n"
   ]
  },
  {
   "cell_type": "code",
   "execution_count": 1,
   "id": "c04cfd8a-0912-4654-93ac-8248f899fa8a",
   "metadata": {},
   "outputs": [
    {
     "name": "stdout",
     "output_type": "stream",
     "text": [
      "INFO:root:Results file = tableresults_topology_rwr.csv\n",
      "INFO:root:Mapped 758 genes out of 986.\n",
      "INFO:root:Setname:tcga_brca\n",
      "INFO:root:Observed: 4.6334 p-value: 0.574257\n",
      "INFO:root:Mapped 172 genes out of 259.\n",
      "INFO:root:Setname:tcga_prad\n",
      "INFO:root:Observed: 0.119103 p-value: 0.970297\n",
      "INFO:root:Mapped 1208 genes out of 1640.\n",
      "INFO:root:Setname:tcga_lusc\n",
      "INFO:root:Observed: 16.5947 p-value: 0.0792079\n",
      "INFO:root:Mapped 2292 genes out of 3247.\n",
      "INFO:root:Setname:tcga_laml\n",
      "INFO:root:Observed: 46.3724 p-value: 0.346535\n",
      "INFO:root:Mapped 1322 genes out of 1796.\n",
      "INFO:root:Setname:tcga_dlbc\n",
      "INFO:root:Observed: 18.1138 p-value: 0.049505\n",
      "INFO:root:Mapped 568 genes out of 769.\n",
      "INFO:root:Setname:tcga_blca\n",
      "INFO:root:Observed: 3.37367 p-value: 0.128713\n",
      "Closing remaining open files:interactome_RWR.hdf5...doneinteractome_RWR.hdf5...done\n"
     ]
    }
   ],
   "source": [
    "! pygna test-topology-rwr biogrid_3.168_filtered.tsv merged.gmt interactome_RWR.hdf5 tableresults_topology_rwr.csv --number-of-permutations 10 --cores 3"
   ]
  },
  {
   "cell_type": "code",
   "execution_count": 1,
   "id": "7ecd1b9e-1d97-4550-b565-d89b48253624",
   "metadata": {},
   "outputs": [
    {
     "name": "stdout",
     "output_type": "stream",
     "text": [
      "INFO:root:Results file = table_topology_internal_degree.csv\n",
      "INFO:root:Mapped 759 genes out of 986.\n",
      "INFO:root:Setname:tcga_brca\n",
      "INFO:root:Observed: 0.0417359 p-value: 0.524752\n",
      "INFO:root:Mapped 172 genes out of 259.\n",
      "INFO:root:Setname:tcga_prad\n",
      "INFO:root:Observed: 0.00404209 p-value: 0.940594\n",
      "INFO:root:Mapped 1212 genes out of 1640.\n",
      "INFO:root:Setname:tcga_lusc\n",
      "INFO:root:Observed: 0.0939875 p-value: 0.039604\n",
      "INFO:root:Mapped 2295 genes out of 3247.\n",
      "INFO:root:Setname:tcga_laml\n",
      "INFO:root:Observed: 0.135056 p-value: 0.366337\n",
      "INFO:root:Mapped 1326 genes out of 1796.\n",
      "INFO:root:Setname:tcga_dlbc\n",
      "INFO:root:Observed: 0.0924852 p-value: 0.0990099\n",
      "INFO:root:Mapped 568 genes out of 769.\n",
      "INFO:root:Setname:tcga_blca\n",
      "INFO:root:Observed: 0.0421927 p-value: 0.0891089\n"
     ]
    }
   ],
   "source": [
    "! pygna test-topology-internal-degree biogrid_3.168_filtered.tsv merged.gmt table_topology_internal_degree.csv --number-of-permutations 10 --cores 3"
   ]
  },
  {
   "cell_type": "code",
   "execution_count": 1,
   "id": "b58c380f-9595-4069-a0a6-29cf6090a8ee",
   "metadata": {},
   "outputs": [
    {
     "name": "stdout",
     "output_type": "stream",
     "text": [
      "INFO:root:Results file = table_topology_sp.csv\n",
      "INFO:root:Setname:tcga_brca\n",
      "INFO:root:Mapped 758 genes out of 986.\n",
      "INFO:root:Observed: 1.69789 p-value: 1\n",
      "INFO:root:Setname:tcga_prad\n",
      "INFO:root:Mapped 172 genes out of 259.\n",
      "INFO:root:Observed: 2.06395 p-value: 1\n",
      "INFO:root:Setname:tcga_lusc\n",
      "INFO:root:Mapped 1208 genes out of 1640.\n",
      "INFO:root:Observed: 1.34189 p-value: 0.0909091\n",
      "INFO:root:Setname:tcga_laml\n",
      "INFO:root:Mapped 2292 genes out of 3247.\n",
      "INFO:root:Observed: 1.28316 p-value: 0.272727\n",
      "INFO:root:Setname:tcga_dlbc\n",
      "INFO:root:Mapped 1322 genes out of 1796.\n",
      "INFO:root:Observed: 1.32148 p-value: 0.0909091\n",
      "INFO:root:Setname:tcga_blca\n",
      "INFO:root:Mapped 568 genes out of 769.\n",
      "INFO:root:Observed: 1.71479 p-value: 1\n",
      "Closing remaining open files:interactome_SP.hdf5...doneinteractome_SP.hdf5...done\n"
     ]
    }
   ],
   "source": [
    "! pygna test-topology-sp biogrid_3.168_filtered.tsv merged.gmt interactome_SP.hdf5 table_topology_sp.csv --number-of-permutations 10 --cores 2\n"
   ]
  },
  {
   "cell_type": "code",
   "execution_count": 1,
   "id": "58fdef47-7a0b-403f-9a67-4ced726ef8f1",
   "metadata": {},
   "outputs": [
    {
     "name": "stdout",
     "output_type": "stream",
     "text": [
      "INFO:root:Evaluating the test topology total degree, please wait\n",
      "INFO:root:Results file = table_topology_total_degree.csv\n",
      "INFO:root:Mapped 759 genes out of 986.\n",
      "INFO:root:Setname:tcga_brca\n",
      "INFO:root:Observed: 19.2793 p-value: 1\n",
      "INFO:root:Null mean: %g null variance: %g\n",
      "INFO:root:Mapped 172 genes out of 259.\n",
      "INFO:root:Setname:tcga_prad\n",
      "INFO:root:Observed: 13.9826 p-value: 1\n",
      "INFO:root:Null mean: %g null variance: %g\n",
      "INFO:root:Mapped 1212 genes out of 1640.\n",
      "INFO:root:Setname:tcga_lusc\n",
      "INFO:root:Observed: 37.4142 p-value: 0.019802\n",
      "INFO:root:Null mean: %g null variance: %g\n",
      "INFO:root:Mapped 2295 genes out of 3247.\n",
      "INFO:root:Setname:tcga_laml\n",
      "INFO:root:Observed: 33.7834 p-value: 0.227723\n",
      "INFO:root:Null mean: %g null variance: %g\n",
      "INFO:root:Mapped 1326 genes out of 1796.\n",
      "INFO:root:Setname:tcga_dlbc\n",
      "INFO:root:Observed: 36.494 p-value: 0.029703\n",
      "INFO:root:Null mean: %g null variance: %g\n",
      "INFO:root:Mapped 568 genes out of 769.\n",
      "INFO:root:Setname:tcga_blca\n",
      "INFO:root:Observed: 18.632 p-value: 1\n",
      "INFO:root:Null mean: %g null variance: %g\n",
      "INFO:root:Test topology total degree completed\n"
     ]
    }
   ],
   "source": [
    "! pygna test-topology-total-degree biogrid_3.168_filtered.tsv merged.gmt table_topology_total_degree.csv --number-of-permutations 100 --cores 4"
   ]
  },
  {
   "cell_type": "markdown",
   "id": "3183e73b-923f-4620-97de-27aa23edf885",
   "metadata": {},
   "source": [
    "#### **Association Tests**"
   ]
  },
  {
   "cell_type": "markdown",
   "id": "a2658b26-d644-4c61-b81d-d1a953ba65ec",
   "metadata": {},
   "source": [
    "In a GNA two genesets are tested for their association. When testing a signle geneset against many pathways it is recommended the –keep flag is used. This way, while resampling only the geneset a will be randomly permuted and the geneset b is going to be kept as it is. This strategy is more conservative and is helpful in testing whether the tested geneset is more strongly connected to the pathway (or any other geneset of interest) than expected by chance."
   ]
  },
  {
   "cell_type": "code",
   "execution_count": 4,
   "id": "1c767b30-d83d-420c-90f0-a57dc7726989",
   "metadata": {},
   "outputs": [
    {
     "name": "stdout",
     "output_type": "stream",
     "text": [
      "INFO:root:geneset_a contains 6 sets\n",
      "INFO:root:Setnames in A: ['tcga_brca', 'tcga_prad', 'tcga_lusc', 'tcga_laml', 'tcga_dlbc', 'tcga_blca']\n",
      "INFO:root:geneset_b contains 139 sets\n",
      "INFO:root:Setnames in B: ['ATPase activity', 'DNA binding', 'DNA binding transcription factor activity', 'DNA metabolic process', 'GTPase activity', 'Golgi apparatus', 'RNA binding', 'aging', 'anatomical structure development', 'anatomical structure formation involved in morphogenesis', 'autophagy', 'biological_process', 'biosynthetic process', 'carbohydrate metabolic process', 'catabolic process', 'cell', 'cell adhesion', 'cell cycle', 'cell death', 'cell differentiation', 'cell division', 'cell junction organization', 'cell morphogenesis', 'cell motility', 'cell proliferation', 'cell wall', 'cell wall organization or biogenesis', 'cell-cell signaling', 'cellular amino acid metabolic process', 'cellular component assembly', 'cellular nitrogen compound metabolic process', 'cellular protein modification process', 'cellular_component', 'chromosome', 'chromosome organization', 'chromosome segregation', 'cilium', 'circulatory system process', 'cofactor metabolic process', 'cytoplasm', 'cytoplasmic chromosome', 'cytoplasmic vesicle', 'cytoskeletal protein binding', 'cytoskeleton', 'cytoskeleton organization', 'cytoskeleton-dependent intracellular transport', 'cytosol', 'developmental maturation', 'embryo development', 'endoplasmic reticulum', 'endosome', 'enzyme binding', 'enzyme regulator activity', 'external encapsulating structure', 'extracellular matrix', 'extracellular matrix organization', 'extracellular region', 'extracellular space', 'generation of precursor metabolites and energy', 'growth', 'helicase activity', 'histone binding', 'homeostatic process', 'hydrolase activity, acting on carbon-nitrogen (but not peptide) bonds', 'hydrolase activity, acting on glycosyl bonds', 'immune system process', 'intracellular', 'ion binding', 'isomerase activity', 'kinase activity', 'ligase activity', 'lipid binding', 'lipid droplet', 'lipid metabolic process', 'locomotion', 'lyase activity', 'lysosome', 'mRNA binding', 'mRNA processing', 'membrane organization', 'methyltransferase activity', 'microtubule organizing center', 'mitochondrion', 'mitochondrion organization', 'molecular_function', 'nervous system process', 'nitrogen cycle metabolic process', 'nuclear chromosome', 'nuclear envelope', 'nuclease activity', 'nucleobase-containing compound catabolic process', 'nucleocytoplasmic transport', 'nucleolus', 'nucleoplasm', 'nucleotidyltransferase activity', 'nucleus', 'organelle', 'oxidoreductase activity', 'peptidase activity', 'peroxisome', 'phosphatase activity', 'pigmentation', 'plasma membrane', 'plasma membrane organization', 'protein binding, bridging', 'protein folding', 'protein maturation', 'protein targeting', 'protein transporter activity', 'protein-containing complex', 'protein-containing complex assembly', 'rRNA binding', 'reproduction', 'response to stress', 'ribonucleoprotein complex assembly', 'ribosome', 'ribosome biogenesis', 'secondary metabolic process', 'signal transduction', 'small molecule metabolic process', 'structural constituent of ribosome', 'structural molecule activity', 'sulfur compound metabolic process', 'symbiont process', 'tRNA metabolic process', 'transcription factor binding', 'transferase activity, transferring acyl groups', 'transferase activity, transferring alkyl or aryl (other than methyl) groups', 'transferase activity, transferring glycosyl groups', 'translation factor activity, RNA binding', 'transmembrane transport', 'transmembrane transporter activity', 'transport', 'transposition', 'ubiquitin-like protein binding', 'unfolded protein binding', 'vacuolar transport', 'vacuole', 'vesicle-mediated transport']\n",
      "INFO:root:Results file = table_association_rwr.csv\n",
      "INFO:root:Analysing tcga_brca and ATPase activity\n",
      "INFO:root:Mapped 758 genes out of 986 from genesetA\n",
      "INFO:root:Mapped 504 genes out of 541 from genesetB\n",
      "INFO:root:n_proc = 4, each computing 25 permutations \n"
     ]
    }
   ],
   "source": [
    "! pygna test-association-rwr biogrid_3.168_filtered.tsv merged.gmt interactome_RWR.hdf5 table_association_rwr.csv --file-geneset-b goslim_entrez.gmt --keep --number-of-permutations 100 --cores 4"
   ]
  },
  {
   "cell_type": "markdown",
   "id": "b260200b-9706-481b-99d2-10b7200c9570",
   "metadata": {},
   "source": [
    "If you don't include the --results-figure flag at the comparison step, plot the matrix as follows"
   ]
  },
  {
   "cell_type": "code",
   "execution_count": 5,
   "id": "1d0d5efd-46db-488a-91d9-60b726fb0840",
   "metadata": {},
   "outputs": [
    {
     "name": "stdout",
     "output_type": "stream",
     "text": [
      "Traceback (most recent call last):\n",
      "  File \"/home/gee3/.local/bin/pygna\", line 8, in <module>\n",
      "    sys.exit(main())\n",
      "  File \"/home/gee3/.local/lib/python3.8/site-packages/pygna/cli.py\", line 17, in main\n",
      "    argh.dispatch_commands([\n",
      "  File \"/home/gee3/.local/lib/python3.8/site-packages/argh/dispatching.py\", line 328, in dispatch_commands\n",
      "    dispatch(parser, *args, **kwargs)\n",
      "  File \"/home/gee3/.local/lib/python3.8/site-packages/argh/dispatching.py\", line 174, in dispatch\n",
      "    for line in lines:\n",
      "  File \"/home/gee3/.local/lib/python3.8/site-packages/argh/dispatching.py\", line 277, in _execute_command\n",
      "    for line in result:\n",
      "  File \"/home/gee3/.local/lib/python3.8/site-packages/argh/dispatching.py\", line 260, in _call\n",
      "    result = function(*positional, **keywords)\n",
      "  File \"/home/gee3/.local/lib/python3.8/site-packages/pygna/painter.py\", line 201, in paint_comparison_matrix\n",
      "    with open(table_filename, \"r\") as f:\n",
      "FileNotFoundError: [Errno 2] No such file or directory: 'table_association_rwr.csv'\n"
     ]
    }
   ],
   "source": [
    "! pygna paint-comparison-matrix table_association_rwr.csv heatmap_association_rwr.png --rwr --annotate"
   ]
  },
  {
   "cell_type": "markdown",
   "id": "dbd48f86-0134-4699-a15d-7a4dcc12233d",
   "metadata": {},
   "source": [
    "If setname B is not passed, the analysis is run between each couple of setnames in the geneset as follows(The only difference between single geneset and multiple genests. No within comprison in multi):"
   ]
  },
  {
   "cell_type": "code",
   "execution_count": null,
   "id": "643336ec-f1d3-4f33-9679-f1a7a0cb5284",
   "metadata": {},
   "outputs": [],
   "source": [
    "! pygna test-association-rwr biogrid_3.168_filtered.tsv merged.gmt interactome_RWR.hdf5 table_within_comparison_rwr.csv --number-of-permutations 100 --cores 2\n",
    "\n",
    "! pygna paint-comparison-matrix table_within_comparison_rwr.csv heatmap_within_comparison_rwr.png --rwr --single-geneset"
   ]
  },
  {
   "cell_type": "code",
   "execution_count": null,
   "id": "058f82da-b43a-4dad-87c0-0afa4a89a7b1",
   "metadata": {},
   "outputs": [
    {
     "name": "stdout",
     "output_type": "stream",
     "text": [
      "INFO:root:geneset_a contains 6 sets\n",
      "INFO:root:geneset_b contains 139 sets\n",
      "INFO:root:Results file = table_association_SP.csv\n",
      "INFO:root:Mapped 758 genes out of 986 from genesetA\n",
      "INFO:root:Mapped 504 genes out of 541 from genesetB\n",
      "INFO:root:n_proc = 3, each computing 0 permutations \n",
      "INFO:root:Observed: 0.0722265 p-value: 1\n",
      "/usr/lib/python3/dist-packages/numpy/core/fromnumeric.py:3256: RuntimeWarning: Mean of empty slice.\n",
      "  return _methods._mean(a, axis=axis, dtype=dtype,\n",
      "/usr/lib/python3/dist-packages/numpy/core/_methods.py:161: RuntimeWarning: invalid value encountered in double_scalars\n",
      "  ret = ret.dtype.type(ret / rcount)\n",
      "/usr/lib/python3/dist-packages/numpy/core/fromnumeric.py:3505: RuntimeWarning: Degrees of freedom <= 0 for slice\n",
      "  return _methods._var(a, axis=axis, dtype=dtype, out=out, ddof=ddof,\n",
      "/usr/lib/python3/dist-packages/numpy/core/_methods.py:185: RuntimeWarning: invalid value encountered in true_divide\n",
      "  arrmean = um.true_divide(\n",
      "/usr/lib/python3/dist-packages/numpy/core/_methods.py:209: RuntimeWarning: invalid value encountered in double_scalars\n",
      "  ret = ret.dtype.type(ret / rcount)\n",
      "INFO:root:Mapped 758 genes out of 986 from genesetA\n",
      "INFO:root:Mapped 2379 genes out of 2659 from genesetB\n",
      "INFO:root:n_proc = 3, each computing 0 permutations \n",
      "INFO:root:Observed: 0.0167353 p-value: 1\n",
      "INFO:root:Mapped 758 genes out of 986 from genesetA\n",
      "INFO:root:Mapped 2031 genes out of 2275 from genesetB\n",
      "INFO:root:n_proc = 3, each computing 0 permutations \n",
      "INFO:root:Observed: 0.0571095 p-value: 1\n",
      "INFO:root:Mapped 758 genes out of 986 from genesetA\n",
      "INFO:root:Mapped 938 genes out of 995 from genesetB\n",
      "INFO:root:n_proc = 3, each computing 0 permutations \n"
     ]
    }
   ],
   "source": [
    "! pygna test-association-sp biogrid_3.168_filtered.tsv merged.gmt interactome_SP.hdf5 table_association_SP.csv --file-geneset-b goslim_entrez.gmt --keep --number-of-permutations 2 --cores 3 \n",
    "! pygna paint-comparison-matrix table_association_sp.csv heatmap_association_sp.png --rwr --annotate#default heatmap "
   ]
  },
  {
   "cell_type": "code",
   "execution_count": null,
   "id": "2248b95c-a8b1-4f5b-bf64-edeff7b89635",
   "metadata": {},
   "outputs": [
    {
     "name": "stdout",
     "output_type": "stream",
     "text": [
      "INFO:root:Analysing all the sets in merged.gmt\n",
      "INFO:root:Results file = table_within_comparison_sp.csv\n",
      "INFO:root:Analysing tcga_brca and tcga_prad\n",
      "INFO:root:Mapped 758 genes out of 986 from genesetA\n",
      "INFO:root:Mapped 172 genes out of 259 from genesetB\n",
      "INFO:root:n_proc = 2, each computing 1 permutations \n"
     ]
    }
   ],
   "source": [
    "! pygna test-association-sp biogrid_3.168_filtered.tsv merged.gmt interactome_RWR.hdf5 table_within_comparison_sp.csv --number-of-permutations 2 --cores 2\n",
    "! pygna paint-comparison-matrix table_within_comparison_sp.csv heatmap_within_comparison_rwr.png --rwr --single-geneset"
   ]
  },
  {
   "cell_type": "markdown",
   "id": "119b972c-3375-4d09-84d6-757ca84edeac",
   "metadata": {},
   "source": [
    "#### **Diagnostic**"
   ]
  },
  {
   "cell_type": "markdown",
   "id": "be323908-a8d9-4fb9-a758-eeeec8aee3ef",
   "metadata": {},
   "source": [
    "Distribution plot\n",
    "When running a statistical test, one might want to visually assess the null distribution. By passing -d \\<diagnostic_folder/> through command line, a distribution plot of the empirical null is shown for each test."
   ]
  },
  {
   "cell_type": "code",
   "execution_count": 3,
   "id": "5ed253d8-735d-47f1-9abe-63cf85b023c7",
   "metadata": {},
   "outputs": [
    {
     "name": "stdout",
     "output_type": "stream",
     "text": [
      "INFO:root:Evaluating the test topology total degree, please wait\n",
      "INFO:root:Results file = diagnstic_total_degree.csv\n",
      "INFO:root:Mapped 759 genes out of 986.\n",
      "INFO:root:Setname:tcga_brca\n",
      "INFO:root:Observed: 19.2793 p-value: 1\n",
      "INFO:root:Null mean: %g null variance: %g\n",
      "/home/gee3/.local/lib/python3.8/site-packages/seaborn/distributions.py:2619: FutureWarning: `distplot` is a deprecated function and will be removed in a future version. Please adapt your code to use either `displot` (a figure-level function with similar flexibility) or `histplot` (an axes-level function for histograms).\n",
      "  warnings.warn(msg, FutureWarning)\n",
      "/usr/lib/python3/dist-packages/matplotlib/cbook/__init__.py:1402: FutureWarning: Support for multi-dimensional indexing (e.g. `obj[:, None]`) is deprecated and will be removed in a future version.  Convert to a numpy array before indexing instead.\n",
      "  ndim = x[:, None].ndim\n",
      "/usr/lib/python3/dist-packages/matplotlib/axes/_base.py:276: FutureWarning: Support for multi-dimensional indexing (e.g. `obj[:, None]`) is deprecated and will be removed in a future version.  Convert to a numpy array before indexing instead.\n",
      "  x = x[:, np.newaxis]\n",
      "/usr/lib/python3/dist-packages/matplotlib/axes/_base.py:278: FutureWarning: Support for multi-dimensional indexing (e.g. `obj[:, None]`) is deprecated and will be removed in a future version.  Convert to a numpy array before indexing instead.\n",
      "  y = y[:, np.newaxis]\n",
      "/home/gee3/.local/lib/python3.8/site-packages/seaborn/distributions.py:2619: FutureWarning: `distplot` is a deprecated function and will be removed in a future version. Please adapt your code to use either `displot` (a figure-level function with similar flexibility) or `histplot` (an axes-level function for histograms).\n",
      "  warnings.warn(msg, FutureWarning)\n",
      "/home/gee3/.local/lib/python3.8/site-packages/seaborn/distributions.py:2103: FutureWarning: The `axis` variable is no longer used and will be removed. Instead, assign variables directly to `x` or `y`.\n",
      "  warnings.warn(msg, FutureWarning)\n",
      "xmax 45.160879\n",
      "/home/gee3/.local/lib/python3.8/site-packages/pygna/diagnostic.py:161: UserWarning: In Matplotlib 3.3 individual lines on a stem plot will be added as a LineCollection instead of individual lines. This significantly improves the performance of a stem plot. To remove this warning and switch to the new behaviour, set the \"use_line_collection\" keyword argument to True.\n",
      "  g4 = axes.stem([observed], [ymax / 2], \"r\", \"r--\")\n",
      "INFO:root:Output for diagnostic null distribution: diagnostic/tcga_brca_total_degree_null_distribution.pdf\n",
      "INFO:root:Mapped 172 genes out of 259.\n",
      "INFO:root:Setname:tcga_prad\n",
      "INFO:root:Observed: 13.9826 p-value: 1\n",
      "INFO:root:Null mean: %g null variance: %g\n",
      "/home/gee3/.local/lib/python3.8/site-packages/seaborn/distributions.py:2619: FutureWarning: `distplot` is a deprecated function and will be removed in a future version. Please adapt your code to use either `displot` (a figure-level function with similar flexibility) or `histplot` (an axes-level function for histograms).\n",
      "  warnings.warn(msg, FutureWarning)\n",
      "/usr/lib/python3/dist-packages/matplotlib/cbook/__init__.py:1402: FutureWarning: Support for multi-dimensional indexing (e.g. `obj[:, None]`) is deprecated and will be removed in a future version.  Convert to a numpy array before indexing instead.\n",
      "  ndim = x[:, None].ndim\n",
      "/usr/lib/python3/dist-packages/matplotlib/axes/_base.py:276: FutureWarning: Support for multi-dimensional indexing (e.g. `obj[:, None]`) is deprecated and will be removed in a future version.  Convert to a numpy array before indexing instead.\n",
      "  x = x[:, np.newaxis]\n",
      "/usr/lib/python3/dist-packages/matplotlib/axes/_base.py:278: FutureWarning: Support for multi-dimensional indexing (e.g. `obj[:, None]`) is deprecated and will be removed in a future version.  Convert to a numpy array before indexing instead.\n",
      "  y = y[:, np.newaxis]\n",
      "/home/gee3/.local/lib/python3.8/site-packages/seaborn/distributions.py:2619: FutureWarning: `distplot` is a deprecated function and will be removed in a future version. Please adapt your code to use either `displot` (a figure-level function with similar flexibility) or `histplot` (an axes-level function for histograms).\n",
      "  warnings.warn(msg, FutureWarning)\n",
      "/home/gee3/.local/lib/python3.8/site-packages/seaborn/distributions.py:2103: FutureWarning: The `axis` variable is no longer used and will be removed. Instead, assign variables directly to `x` or `y`.\n",
      "  warnings.warn(msg, FutureWarning)\n",
      "xmax 29.277120\n",
      "/home/gee3/.local/lib/python3.8/site-packages/pygna/diagnostic.py:161: UserWarning: In Matplotlib 3.3 individual lines on a stem plot will be added as a LineCollection instead of individual lines. This significantly improves the performance of a stem plot. To remove this warning and switch to the new behaviour, set the \"use_line_collection\" keyword argument to True.\n",
      "  g4 = axes.stem([observed], [ymax / 2], \"r\", \"r--\")\n",
      "INFO:root:Output for diagnostic null distribution: diagnostic/tcga_prad_total_degree_null_distribution.pdf\n",
      "INFO:root:Mapped 1212 genes out of 1640.\n",
      "INFO:root:Setname:tcga_lusc\n",
      "INFO:root:Observed: 37.4142 p-value: 0.333333\n",
      "INFO:root:Null mean: %g null variance: %g\n",
      "/home/gee3/.local/lib/python3.8/site-packages/seaborn/distributions.py:2619: FutureWarning: `distplot` is a deprecated function and will be removed in a future version. Please adapt your code to use either `displot` (a figure-level function with similar flexibility) or `histplot` (an axes-level function for histograms).\n",
      "  warnings.warn(msg, FutureWarning)\n",
      "/usr/lib/python3/dist-packages/matplotlib/cbook/__init__.py:1402: FutureWarning: Support for multi-dimensional indexing (e.g. `obj[:, None]`) is deprecated and will be removed in a future version.  Convert to a numpy array before indexing instead.\n",
      "  ndim = x[:, None].ndim\n",
      "/usr/lib/python3/dist-packages/matplotlib/axes/_base.py:276: FutureWarning: Support for multi-dimensional indexing (e.g. `obj[:, None]`) is deprecated and will be removed in a future version.  Convert to a numpy array before indexing instead.\n",
      "  x = x[:, np.newaxis]\n",
      "/usr/lib/python3/dist-packages/matplotlib/axes/_base.py:278: FutureWarning: Support for multi-dimensional indexing (e.g. `obj[:, None]`) is deprecated and will be removed in a future version.  Convert to a numpy array before indexing instead.\n",
      "  y = y[:, np.newaxis]\n",
      "xmax 41.297528\n",
      "/home/gee3/.local/lib/python3.8/site-packages/pygna/diagnostic.py:161: UserWarning: In Matplotlib 3.3 individual lines on a stem plot will be added as a LineCollection instead of individual lines. This significantly improves the performance of a stem plot. To remove this warning and switch to the new behaviour, set the \"use_line_collection\" keyword argument to True.\n",
      "  g4 = axes.stem([observed], [ymax / 2], \"r\", \"r--\")\n",
      "INFO:root:Output for diagnostic null distribution: diagnostic/tcga_lusc_total_degree_null_distribution.pdf\n",
      "INFO:root:Mapped 2295 genes out of 3247.\n",
      "INFO:root:Setname:tcga_laml\n",
      "INFO:root:Observed: 33.7834 p-value: 0.666667\n",
      "INFO:root:Null mean: %g null variance: %g\n",
      "/home/gee3/.local/lib/python3.8/site-packages/seaborn/distributions.py:2619: FutureWarning: `distplot` is a deprecated function and will be removed in a future version. Please adapt your code to use either `displot` (a figure-level function with similar flexibility) or `histplot` (an axes-level function for histograms).\n",
      "  warnings.warn(msg, FutureWarning)\n",
      "/usr/lib/python3/dist-packages/matplotlib/cbook/__init__.py:1402: FutureWarning: Support for multi-dimensional indexing (e.g. `obj[:, None]`) is deprecated and will be removed in a future version.  Convert to a numpy array before indexing instead.\n",
      "  ndim = x[:, None].ndim\n",
      "/usr/lib/python3/dist-packages/matplotlib/axes/_base.py:276: FutureWarning: Support for multi-dimensional indexing (e.g. `obj[:, None]`) is deprecated and will be removed in a future version.  Convert to a numpy array before indexing instead.\n",
      "  x = x[:, np.newaxis]\n",
      "/usr/lib/python3/dist-packages/matplotlib/axes/_base.py:278: FutureWarning: Support for multi-dimensional indexing (e.g. `obj[:, None]`) is deprecated and will be removed in a future version.  Convert to a numpy array before indexing instead.\n",
      "  y = y[:, np.newaxis]\n",
      "/home/gee3/.local/lib/python3.8/site-packages/seaborn/distributions.py:2619: FutureWarning: `distplot` is a deprecated function and will be removed in a future version. Please adapt your code to use either `displot` (a figure-level function with similar flexibility) or `histplot` (an axes-level function for histograms).\n",
      "  warnings.warn(msg, FutureWarning)\n",
      "/home/gee3/.local/lib/python3.8/site-packages/seaborn/distributions.py:2103: FutureWarning: The `axis` variable is no longer used and will be removed. Instead, assign variables directly to `x` or `y`.\n",
      "  warnings.warn(msg, FutureWarning)\n",
      "xmax 37.906018\n",
      "/home/gee3/.local/lib/python3.8/site-packages/pygna/diagnostic.py:161: UserWarning: In Matplotlib 3.3 individual lines on a stem plot will be added as a LineCollection instead of individual lines. This significantly improves the performance of a stem plot. To remove this warning and switch to the new behaviour, set the \"use_line_collection\" keyword argument to True.\n",
      "  g4 = axes.stem([observed], [ymax / 2], \"r\", \"r--\")\n",
      "INFO:root:Output for diagnostic null distribution: diagnostic/tcga_laml_total_degree_null_distribution.pdf\n",
      "INFO:root:Mapped 1326 genes out of 1796.\n",
      "INFO:root:Setname:tcga_dlbc\n",
      "INFO:root:Observed: 36.494 p-value: 0.333333\n",
      "INFO:root:Null mean: %g null variance: %g\n",
      "/home/gee3/.local/lib/python3.8/site-packages/seaborn/distributions.py:2619: FutureWarning: `distplot` is a deprecated function and will be removed in a future version. Please adapt your code to use either `displot` (a figure-level function with similar flexibility) or `histplot` (an axes-level function for histograms).\n",
      "  warnings.warn(msg, FutureWarning)\n",
      "/usr/lib/python3/dist-packages/matplotlib/cbook/__init__.py:1402: FutureWarning: Support for multi-dimensional indexing (e.g. `obj[:, None]`) is deprecated and will be removed in a future version.  Convert to a numpy array before indexing instead.\n",
      "  ndim = x[:, None].ndim\n",
      "/usr/lib/python3/dist-packages/matplotlib/axes/_base.py:276: FutureWarning: Support for multi-dimensional indexing (e.g. `obj[:, None]`) is deprecated and will be removed in a future version.  Convert to a numpy array before indexing instead.\n",
      "  x = x[:, np.newaxis]\n",
      "/usr/lib/python3/dist-packages/matplotlib/axes/_base.py:278: FutureWarning: Support for multi-dimensional indexing (e.g. `obj[:, None]`) is deprecated and will be removed in a future version.  Convert to a numpy array before indexing instead.\n",
      "  y = y[:, np.newaxis]\n",
      "xmax 38.778530\n",
      "/home/gee3/.local/lib/python3.8/site-packages/pygna/diagnostic.py:161: UserWarning: In Matplotlib 3.3 individual lines on a stem plot will be added as a LineCollection instead of individual lines. This significantly improves the performance of a stem plot. To remove this warning and switch to the new behaviour, set the \"use_line_collection\" keyword argument to True.\n",
      "  g4 = axes.stem([observed], [ymax / 2], \"r\", \"r--\")\n",
      "INFO:root:Output for diagnostic null distribution: diagnostic/tcga_dlbc_total_degree_null_distribution.pdf\n",
      "INFO:root:Mapped 568 genes out of 769.\n",
      "INFO:root:Setname:tcga_blca\n",
      "INFO:root:Observed: 18.632 p-value: 1\n",
      "INFO:root:Null mean: %g null variance: %g\n",
      "/home/gee3/.local/lib/python3.8/site-packages/seaborn/distributions.py:2619: FutureWarning: `distplot` is a deprecated function and will be removed in a future version. Please adapt your code to use either `displot` (a figure-level function with similar flexibility) or `histplot` (an axes-level function for histograms).\n",
      "  warnings.warn(msg, FutureWarning)\n",
      "/usr/lib/python3/dist-packages/matplotlib/cbook/__init__.py:1402: FutureWarning: Support for multi-dimensional indexing (e.g. `obj[:, None]`) is deprecated and will be removed in a future version.  Convert to a numpy array before indexing instead.\n",
      "  ndim = x[:, None].ndim\n",
      "/usr/lib/python3/dist-packages/matplotlib/axes/_base.py:276: FutureWarning: Support for multi-dimensional indexing (e.g. `obj[:, None]`) is deprecated and will be removed in a future version.  Convert to a numpy array before indexing instead.\n",
      "  x = x[:, np.newaxis]\n",
      "/usr/lib/python3/dist-packages/matplotlib/axes/_base.py:278: FutureWarning: Support for multi-dimensional indexing (e.g. `obj[:, None]`) is deprecated and will be removed in a future version.  Convert to a numpy array before indexing instead.\n",
      "  y = y[:, np.newaxis]\n",
      "/home/gee3/.local/lib/python3.8/site-packages/seaborn/distributions.py:2619: FutureWarning: `distplot` is a deprecated function and will be removed in a future version. Please adapt your code to use either `displot` (a figure-level function with similar flexibility) or `histplot` (an axes-level function for histograms).\n",
      "  warnings.warn(msg, FutureWarning)\n",
      "/home/gee3/.local/lib/python3.8/site-packages/seaborn/distributions.py:2103: FutureWarning: The `axis` variable is no longer used and will be removed. Instead, assign variables directly to `x` or `y`.\n",
      "  warnings.warn(msg, FutureWarning)\n",
      "xmax 33.730763\n",
      "/home/gee3/.local/lib/python3.8/site-packages/pygna/diagnostic.py:161: UserWarning: In Matplotlib 3.3 individual lines on a stem plot will be added as a LineCollection instead of individual lines. This significantly improves the performance of a stem plot. To remove this warning and switch to the new behaviour, set the \"use_line_collection\" keyword argument to True.\n",
      "  g4 = axes.stem([observed], [ymax / 2], \"r\", \"r--\")\n",
      "INFO:root:Output for diagnostic null distribution: diagnostic/tcga_blca_total_degree_null_distribution.pdf\n",
      "INFO:root:Test topology total degree completed\n"
     ]
    }
   ],
   "source": [
    "! pygna test-topology-total-degree biogrid_3.168_filtered.tsv merged.gmt diagnstic_total_degree.csv -d \"diagnostic/\" --number-of-permutations 2 --cores 2"
   ]
  },
  {
   "cell_type": "markdown",
   "id": "67fd1b15-f0c8-4e75-89ca-3bff0023a51c",
   "metadata": {},
   "source": [
    "### **Visualisation**"
   ]
  },
  {
   "cell_type": "markdown",
   "id": "45cd24df-aa0a-40e7-977a-031342c05262",
   "metadata": {},
   "source": [
    "There are four main types of figures currently implemented in PyGNA, namely bar plots, point plots, heatmaps and volcano plots, to visualize to GNT and GNA results.\n",
    "\n",
    "Barplots are used to plot the GNT results for a single statistic. For each geneset a red bar represents the observed statistic, whereas a blue one represents the average of the empirical null distribution. Conversely, a dot plot can be used to summarize multiple tests for the same geneset. In order to show all the results in the same figure, the observed values are transformed in absolute normalized z-scores, such that all significant tests have z-score >0 and are marked with a red dot. \n",
    "\n",
    "GNA results can instead be visualised on heatmaps, with the color gradients used to report the strength of association between two genesets. When an all-vs-all test is conducted, a lower triangular matrix is shown, with stars denoting significance. If, instead, a M-vs-N test was conducted, a complete heatmap would be included in the plot.\n",
    "\n",
    "Alternatively, volcano plots can be used to visualize one-vs-many GNA results, for testing a geneset against a large number of datasets (e.g. gene ontologies). The plot shows the normalized z-score on the x-axis and the −log10 of the p-value adjusted to control the False Discovery Rate (FDR) on the y-axis. Significant results are shown with red crosses, whereas not significant associations are represented by blue dots.Can be annotated to fid out the top 5 terms."
   ]
  },
  {
   "cell_type": "code",
   "execution_count": 4,
   "id": "c98363ee-f2fc-48c1-a32a-0d11b91aad17",
   "metadata": {},
   "outputs": [
    {
     "name": "stdout",
     "output_type": "stream",
     "text": [
      "Traceback (most recent call last):\n",
      "  File \"/home/gee3/.local/lib/python3.8/site-packages/pandas/core/indexes/base.py\", line 3361, in get_loc\n",
      "    return self._engine.get_loc(casted_key)\n",
      "  File \"pandas/_libs/index.pyx\", line 76, in pandas._libs.index.IndexEngine.get_loc\n",
      "  File \"pandas/_libs/index.pyx\", line 108, in pandas._libs.index.IndexEngine.get_loc\n",
      "  File \"pandas/_libs/hashtable_class_helper.pxi\", line 5198, in pandas._libs.hashtable.PyObjectHashTable.get_item\n",
      "  File \"pandas/_libs/hashtable_class_helper.pxi\", line 5206, in pandas._libs.hashtable.PyObjectHashTable.get_item\n",
      "KeyError: 'observed'\n",
      "\n",
      "The above exception was the direct cause of the following exception:\n",
      "\n",
      "Traceback (most recent call last):\n",
      "  File \"/home/gee3/.local/bin/pygna\", line 8, in <module>\n",
      "    sys.exit(main())\n",
      "  File \"/home/gee3/.local/lib/python3.8/site-packages/pygna/cli.py\", line 17, in main\n",
      "    argh.dispatch_commands([\n",
      "  File \"/home/gee3/.local/lib/python3.8/site-packages/argh/dispatching.py\", line 328, in dispatch_commands\n",
      "    dispatch(parser, *args, **kwargs)\n",
      "  File \"/home/gee3/.local/lib/python3.8/site-packages/argh/dispatching.py\", line 174, in dispatch\n",
      "    for line in lines:\n",
      "  File \"/home/gee3/.local/lib/python3.8/site-packages/argh/dispatching.py\", line 277, in _execute_command\n",
      "    for line in result:\n",
      "  File \"/home/gee3/.local/lib/python3.8/site-packages/argh/dispatching.py\", line 260, in _call\n",
      "    result = function(*positional, **keywords)\n",
      "  File \"/home/gee3/.local/lib/python3.8/site-packages/pygna/painter.py\", line 532, in paint_summary_gnt\n",
      "    df['zscore'] = (df['observed'] - df['mean(null)']) / np.sqrt(df['var(null)'].values)\n",
      "  File \"/home/gee3/.local/lib/python3.8/site-packages/pandas/core/frame.py\", line 3458, in __getitem__\n",
      "    indexer = self.columns.get_loc(key)\n",
      "  File \"/home/gee3/.local/lib/python3.8/site-packages/pandas/core/indexes/base.py\", line 3363, in get_loc\n",
      "    raise KeyError(key) from err\n",
      "KeyError: 'observed'\n",
      "Traceback (most recent call last):\n",
      "  File \"/home/gee3/.local/bin/pygna\", line 8, in <module>\n",
      "    sys.exit(main())\n",
      "  File \"/home/gee3/.local/lib/python3.8/site-packages/pygna/cli.py\", line 17, in main\n",
      "    argh.dispatch_commands([\n",
      "  File \"/home/gee3/.local/lib/python3.8/site-packages/argh/dispatching.py\", line 328, in dispatch_commands\n",
      "    dispatch(parser, *args, **kwargs)\n",
      "  File \"/home/gee3/.local/lib/python3.8/site-packages/argh/dispatching.py\", line 174, in dispatch\n",
      "    for line in lines:\n",
      "  File \"/home/gee3/.local/lib/python3.8/site-packages/argh/dispatching.py\", line 277, in _execute_command\n",
      "    for line in result:\n",
      "  File \"/home/gee3/.local/lib/python3.8/site-packages/argh/dispatching.py\", line 260, in _call\n",
      "    result = function(*positional, **keywords)\n",
      "  File \"/home/gee3/.local/lib/python3.8/site-packages/pygna/painter.py\", line 201, in paint_comparison_matrix\n",
      "    with open(table_filename, \"r\") as f:\n",
      "FileNotFoundError: [Errno 2] No such file or directory: 'table_association_sp.csv'\n",
      "Traceback (most recent call last):\n",
      "  File \"/home/gee3/.local/bin/pygna\", line 8, in <module>\n",
      "    sys.exit(main())\n",
      "  File \"/home/gee3/.local/lib/python3.8/site-packages/pygna/cli.py\", line 17, in main\n",
      "    argh.dispatch_commands([\n",
      "  File \"/home/gee3/.local/lib/python3.8/site-packages/argh/dispatching.py\", line 328, in dispatch_commands\n",
      "    dispatch(parser, *args, **kwargs)\n",
      "  File \"/home/gee3/.local/lib/python3.8/site-packages/argh/dispatching.py\", line 174, in dispatch\n",
      "    for line in lines:\n",
      "  File \"/home/gee3/.local/lib/python3.8/site-packages/argh/dispatching.py\", line 277, in _execute_command\n",
      "    for line in result:\n",
      "  File \"/home/gee3/.local/lib/python3.8/site-packages/argh/dispatching.py\", line 260, in _call\n",
      "    result = function(*positional, **keywords)\n",
      "  File \"/home/gee3/.local/lib/python3.8/site-packages/pygna/painter.py\", line 304, in paint_volcano_plot\n",
      "    out.apply_multiple_testing_correction(table_filename, pval_col=\"empirical_pvalue\", method=\"fdr_bh\", threshold=0.1)\n",
      "  File \"/home/gee3/.local/lib/python3.8/site-packages/pygna/output.py\", line 276, in apply_multiple_testing_correction\n",
      "    with open(table_file, \"r+\") as f:\n",
      "FileNotFoundError: [Errno 2] No such file or directory: 'table_association_sp.csv'\n"
     ]
    }
   ],
   "source": [
    "! pygna paint-datasets-stats table_topology_module.csv gnt_tm.png #GNT barplot\n",
    "! pygna paint-summary-gnt dotplt.png #GNT Summary\n",
    "! pygna paint-comparison-matrix table_association_sp.csv withncomp_sp.pdf #heatmap\n",
    "! pygna paint-volcano-plot table_association_sp.csv volcno_sp.png #volcanoplot"
   ]
  }
 ],
 "metadata": {
  "kernelspec": {
   "display_name": "Python 3 (ipykernel)",
   "language": "python",
   "name": "python3"
  },
  "language_info": {
   "codemirror_mode": {
    "name": "ipython",
    "version": 3
   },
   "file_extension": ".py",
   "mimetype": "text/x-python",
   "name": "python",
   "nbconvert_exporter": "python",
   "pygments_lexer": "ipython3",
   "version": "3.9.7"
  }
 },
 "nbformat": 4,
 "nbformat_minor": 5
}
